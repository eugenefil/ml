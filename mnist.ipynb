{
 "cells": [
  {
   "cell_type": "code",
   "execution_count": 1,
   "id": "464dc11e-a357-499f-9d3d-aa1ef8a8fc5d",
   "metadata": {},
   "outputs": [],
   "source": [
    "import gzip\n",
    "import pickle\n",
    "from time import time\n",
    "\n",
    "import torch\n",
    "import torch.nn.functional as F\n",
    "from torch import nn, optim\n",
    "import torch.utils.data as data"
   ]
  },
  {
   "cell_type": "code",
   "execution_count": 2,
   "id": "b9147f81-ed96-4976-9a10-aed5b1264613",
   "metadata": {},
   "outputs": [],
   "source": [
    "# https://github.com/mnielsen/neural-networks-and-deep-learning/raw/master/data/mnist.pkl.gz\n",
    "train, valid, test = pickle.load(gzip.open('data/mnist.pkl.gz'), encoding='latin1')"
   ]
  },
  {
   "cell_type": "code",
   "execution_count": 3,
   "id": "1e8964ed-0093-4ac1-b37c-e2829866a933",
   "metadata": {},
   "outputs": [
    {
     "data": {
      "text/plain": [
       "((50000, 784), (50000,), (10000, 784), (10000, 784))"
      ]
     },
     "execution_count": 3,
     "metadata": {},
     "output_type": "execute_result"
    }
   ],
   "source": [
    "train[0].shape, train[1].shape, valid[0].shape, test[0].shape"
   ]
  },
  {
   "cell_type": "code",
   "execution_count": 4,
   "id": "2218979e-c96c-481b-8abb-4c36743b32d8",
   "metadata": {},
   "outputs": [
    {
     "data": {
      "text/plain": [
       "(0.0, 0.99609375, 0.13044983, 0.3072898)"
      ]
     },
     "execution_count": 4,
     "metadata": {},
     "output_type": "execute_result"
    }
   ],
   "source": [
    "def normalize(x, mean, std):\n",
    "    \"\"\"Subtract mean and divide by std to make x mean 0 and std 1.\"\"\"\n",
    "    return (x - mean) / std\n",
    "\n",
    "def denorm(x):\n",
    "    \"\"\"Restore original mean and std. Complement to normalize().\"\"\"\n",
    "    return x * train_std + train_mean\n",
    "\n",
    "train_mean, train_std = train[0].mean(), train[0].std()\n",
    "train[0].min(), train[0].max(), train_mean, train_std"
   ]
  },
  {
   "cell_type": "code",
   "execution_count": 5,
   "id": "ffd4b57a-0ae0-4309-bbf6-592804e6f06e",
   "metadata": {},
   "outputs": [
    {
     "name": "stdout",
     "output_type": "stream",
     "text": [
      "-3.1638146e-07 0.99999934 -0.005850922 0.99243325 0.005034822 1.0064359\n"
     ]
    }
   ],
   "source": [
    "train = (normalize(train[0], train_mean, train_std), train[1])\n",
    "valid = (normalize(valid[0], train_mean, train_std), valid[1])\n",
    "test = (normalize(test[0], train_mean, train_std), test[1])\n",
    "print(train[0].mean(), train[0].std(),\n",
    "      valid[0].mean(), valid[0].std(),\n",
    "      test[0].mean(), test[0].std())"
   ]
  },
  {
   "cell_type": "code",
   "execution_count": 6,
   "id": "137c959b-70aa-4bb2-bc23-b982d5a3f607",
   "metadata": {},
   "outputs": [
    {
     "name": "stdout",
     "output_type": "stream",
     "text": [
      "-0.42451727 2.8170278 0.0 0.99609375\n"
     ]
    }
   ],
   "source": [
    "print(train[0].min(), train[0].max(),\n",
    "      denorm(train[0]).min(), denorm(train[0]).max())"
   ]
  },
  {
   "cell_type": "code",
   "execution_count": 7,
   "id": "001432ea-0f2d-4d81-a2c4-aaf6fc31a19b",
   "metadata": {},
   "outputs": [
    {
     "data": {
      "text/plain": [
       "(784, 10)"
      ]
     },
     "execution_count": 7,
     "metadata": {},
     "output_type": "execute_result"
    }
   ],
   "source": [
    "n_in = test[0].shape[1] # length of input vector\n",
    "n_out = test[1].max() + 1 # number of output classes\n",
    "n_in, n_out"
   ]
  },
  {
   "cell_type": "code",
   "execution_count": 8,
   "id": "59547b59-78f2-49cd-a8f3-095b2d81440f",
   "metadata": {},
   "outputs": [
    {
     "data": {
      "text/plain": [
       "'cpu'"
      ]
     },
     "execution_count": 8,
     "metadata": {},
     "output_type": "execute_result"
    }
   ],
   "source": [
    "dev = 'cpu'\n",
    "if torch.cuda.is_available():\n",
    "    dev = 'cuda'\n",
    "dev"
   ]
  },
  {
   "cell_type": "code",
   "execution_count": 10,
   "id": "25f81543-bcbc-485e-9ea2-dd8a5cbd4376",
   "metadata": {},
   "outputs": [],
   "source": [
    "batch_size = 100\n",
    "lr = .1\n",
    "n_epochs = 10"
   ]
  },
  {
   "cell_type": "code",
   "execution_count": 11,
   "id": "79dc8905-b15f-483c-a208-c605c708857c",
   "metadata": {},
   "outputs": [
    {
     "name": "stdout",
     "output_type": "stream",
     "text": [
      "train loss 0.455674238152802\n",
      "0.957 0.14547233759425582\n",
      "train loss 0.12231811636313795\n",
      "0.9728 0.09727870895061642\n",
      "train loss 0.08752219603955745\n",
      "0.9762 0.0827061158476863\n",
      "train loss 0.069766287188977\n",
      "0.9795 0.07259693318745121\n",
      "train loss 0.05853476858651265\n",
      "0.9764 0.07723196109058335\n",
      "train loss 0.05088327271072194\n",
      "0.9806 0.06519232205173467\n",
      "train loss 0.045280935860704634\n",
      "0.9816 0.0637406308442587\n",
      "train loss 0.04107590311765671\n",
      "0.9811 0.06570773883518996\n",
      "train loss 0.03685951347602531\n",
      "0.9826 0.059405840126564725\n",
      "train loss 0.03324395830044523\n",
      "0.9833 0.060406671670789364\n",
      "1749.6517124176025 s\n"
     ]
    }
   ],
   "source": [
    "class Resize(nn.Module):\n",
    "    def forward(self, x):\n",
    "        return x.reshape((-1, 1, 28, 28))\n",
    "\n",
    "class Flatten(nn.Module):\n",
    "    def forward(self, x):\n",
    "        return x.reshape((len(x), -1))\n",
    "\n",
    "def get_model():\n",
    "    return nn.Sequential(\n",
    "        Resize() # 784 -> 1x28x28\n",
    "        ,nn.Conv2d(1, 8, 5, padding=2, stride=2), nn.ReLU() # 14\n",
    "        ,nn.Conv2d(8, 16, 3, padding=1, stride=2), nn.ReLU() # 7\n",
    "        ,nn.Conv2d(16, 32, 3, padding=1, stride=2), nn.ReLU() # 4\n",
    "        ,Flatten()\n",
    "        ,nn.Linear(32 * 4 * 4, n_out)\n",
    "    )\n",
    "\n",
    "def get_data_loader(x, y, shuffle=False, first_n=None):\n",
    "    if first_n:\n",
    "        x, y = x[:first_n], y[:first_n]\n",
    "    x, y = map(lambda x: torch.tensor(x, device=dev), [x, y])\n",
    "    ds = data.TensorDataset(x, y)\n",
    "    return data.DataLoader(ds, batch_size=batch_size, shuffle=shuffle)\n",
    "\n",
    "train_dl = get_data_loader(*train, shuffle=True)\n",
    "valid_dl = get_data_loader(*valid)\n",
    "model = get_model().to(device=dev)\n",
    "opt = optim.SGD(model.parameters(), lr)\n",
    "t0 = time()\n",
    "for epoch in range(n_epochs):\n",
    "    totloss = 0.\n",
    "    for xb, yb in train_dl:\n",
    "        loss = F.cross_entropy(model(xb), yb)\n",
    "        totloss += loss.item() * len(xb)\n",
    "        loss.backward()\n",
    "        opt.step()\n",
    "        opt.zero_grad()\n",
    "    print('train loss', totloss / len(train[0]))\n",
    "\n",
    "    with torch.no_grad():\n",
    "        loss = 0.\n",
    "        accuracy = 0.\n",
    "        for xb, yb in valid_dl:\n",
    "            yhat = model(xb)\n",
    "            accuracy += (yhat.argmax(axis=1) == yb).sum().item()\n",
    "            loss += F.cross_entropy(yhat, yb).item() * len(xb)\n",
    "        print(accuracy / len(valid[0]), loss / len(valid[0]))\n",
    "print(time() - t0, 's')"
   ]
  },
  {
   "cell_type": "code",
   "execution_count": null,
   "id": "ad1bc899-1d68-428b-bf05-99c48192df48",
   "metadata": {},
   "outputs": [],
   "source": []
  }
 ],
 "metadata": {
  "kernelspec": {
   "display_name": "Python 3 (ipykernel)",
   "language": "python",
   "name": "python3"
  },
  "language_info": {
   "codemirror_mode": {
    "name": "ipython",
    "version": 3
   },
   "file_extension": ".py",
   "mimetype": "text/x-python",
   "name": "python",
   "nbconvert_exporter": "python",
   "pygments_lexer": "ipython3",
   "version": "3.11.7"
  }
 },
 "nbformat": 4,
 "nbformat_minor": 5
}
