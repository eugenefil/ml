{
 "cells": [
  {
   "cell_type": "code",
   "execution_count": 9,
   "metadata": {},
   "outputs": [],
   "source": [
    "%reload_ext autoreload\n",
    "%autoreload 2"
   ]
  },
  {
   "cell_type": "code",
   "execution_count": 10,
   "metadata": {},
   "outputs": [],
   "source": [
    "import gzip,pickle\n",
    "import mytorch\n",
    "import numpy as np\n",
    "import torch\n",
    "import torch.nn as nn\n",
    "import torch.nn.functional as F\n",
    "import torch.optim as optim\n",
    "from torch.utils.data import DataLoader,TensorDataset\n",
    "import matplotlib.pyplot as plt\n",
    "from time import time"
   ]
  },
  {
   "cell_type": "code",
   "execution_count": 11,
   "metadata": {},
   "outputs": [],
   "source": [
    "tr,va,te=pickle.load(gzip.open('data/mnist.pkl.gz'),encoding='latin1')"
   ]
  },
  {
   "cell_type": "code",
   "execution_count": 12,
   "metadata": {},
   "outputs": [],
   "source": [
    "def normalize(x,mean,std): return (x-mean)/std\n",
    "tr_mean,tr_std=tr[0].mean(),tr[0].std()\n",
    "tr=(normalize(tr[0],tr_mean,tr_std),tr[1])\n",
    "va=(normalize(va[0],tr_mean,tr_std),va[1])\n",
    "te=(normalize(te[0],tr_mean,tr_std),te[1])"
   ]
  },
  {
   "cell_type": "code",
   "execution_count": 13,
   "metadata": {},
   "outputs": [
    {
     "data": {
      "text/plain": [
       "(784, 10)"
      ]
     },
     "execution_count": 13,
     "metadata": {},
     "output_type": "execute_result"
    }
   ],
   "source": [
    "n_in=te[0].shape[1]\n",
    "n_out=te[1].max()+1\n",
    "n_in,n_out"
   ]
  },
  {
   "cell_type": "code",
   "execution_count": 5,
   "metadata": {},
   "outputs": [],
   "source": [
    "def vectorize_y(y):\n",
    "    def vectorize(i):\n",
    "        v=np.zeros(10)\n",
    "        v[i]=1.\n",
    "        return v\n",
    "    return np.array([vectorize(i) for i in y])"
   ]
  },
  {
   "cell_type": "code",
   "execution_count": 6,
   "metadata": {},
   "outputs": [],
   "source": [
    "def nll_loss(p,targ): return -p[mytorch.arange(len(p)),targ].sum()/np.float32(len(p))\n",
    "# def nll_loss(p,targ): return -p[mytorch.arange(len(p)),targ].log().sum()/len(p)\n",
    "def cross_entropy(p,targ): return -(targ*p.log()+(1.-targ)*(1.-p).log()).sum()/len(p)\n",
    "def accuracy(p,targ): return (p.argmax(axis=1)==targ).mean()"
   ]
  },
  {
   "cell_type": "code",
   "execution_count": 320,
   "metadata": {},
   "outputs": [
    {
     "name": "stdout",
     "output_type": "stream",
     "text": [
      "tensor(0.33746768) tensor(0.9026)\n",
      "tensor(0.27810104) tensor(0.9182)\n",
      "tensor(0.2660433) tensor(0.9229)\n",
      "35.44679498672485 s\n"
     ]
    }
   ],
   "source": [
    "# %%prun\n",
    "# X,y=mytorch.tensor(tr[0]),mytorch.tensor(vectorize_y(tr[1]))\n",
    "X,y=mytorch.tensor(tr[0]),mytorch.tensor(tr[1])\n",
    "n_hid=30\n",
    "N=len(X)\n",
    "# N=10\n",
    "n_ep=3\n",
    "lr=.5\n",
    "batch_size=10\n",
    "\n",
    "np.random.seed(1)\n",
    "mytorch.manual_seed(1)\n",
    "m=mytorch.Seq(\n",
    "    mytorch.Linear(n_in,n_hid)\n",
    "    ,mytorch.Sigmoid()\n",
    "    ,mytorch.Linear(n_hid,n_out)\n",
    "#     ,mytorch.Sigmoid()\n",
    "    ,mytorch.LogSoftmax()\n",
    "#     ,mytorch.Softmax()\n",
    ")\n",
    "# print(m.modules[0].w,m.modules[2].w)\n",
    "losses,accs=[],[]\n",
    "t0=time()\n",
    "for ep in range(n_ep):\n",
    "    idxs=np.random.permutation(N)\n",
    "    for i in range(0,N,batch_size):\n",
    "        ibatch=idxs[i:i+batch_size]\n",
    "#         print(ibatch)\n",
    "        xb,yb=X[ibatch],y[ibatch]\n",
    "#         loss=cross_entropy(m(xb),yb)\n",
    "        loss=nll_loss(m(xb),yb)\n",
    "#         print(loss)\n",
    "        loss.backward()\n",
    "        with mytorch.no_grad():\n",
    "            for p in m.params():\n",
    "#                 print(p.grad.reshape(-1)[:3])\n",
    "                p-=lr*p.grad\n",
    "                p.grad.zero_()\n",
    "                \n",
    "    with mytorch.no_grad():\n",
    "        probs=m(mytorch.tensor(te[0]))\n",
    "#         losses.append(cross_entropy(probs,vectorize_y(te[1])))\n",
    "        vy=mytorch.tensor(te[1])\n",
    "        losses.append(nll_loss(probs,vy))\n",
    "        accs.append(accuracy(probs,vy))\n",
    "        print(losses[-1],accs[-1])\n",
    "print(time()-t0,'s')\n",
    "losses=mytorch.tensor(losses)\n",
    "accs=mytorch.tensor(accs)\n",
    "# plt.plot(losses)\n",
    "# plt.show()\n",
    "# plt.plot(accs)"
   ]
  },
  {
   "cell_type": "code",
   "execution_count": 81,
   "metadata": {},
   "outputs": [
    {
     "data": {
      "text/plain": [
       "dtype('float64')"
      ]
     },
     "execution_count": 81,
     "metadata": {},
     "output_type": "execute_result"
    }
   ],
   "source": [
    "loss.v.dtype"
   ]
  },
  {
   "cell_type": "code",
   "execution_count": 146,
   "metadata": {},
   "outputs": [],
   "source": [
    "def sigmoid(x): return 1./(1.+np.exp(-x))\n",
    "def sigmoid_prime(x): return x*(1.-x)\n",
    "def softmax(x):\n",
    "    e=np.exp(x)\n",
    "    return e/e.sum(axis=1,keepdims=True)"
   ]
  },
  {
   "cell_type": "code",
   "execution_count": 116,
   "metadata": {},
   "outputs": [
    {
     "name": "stdout",
     "output_type": "stream",
     "text": [
      "0.632670942572302 0.9003\n",
      "0.5478507429896013 0.9132\n",
      "0.478934529252819 0.9288\n",
      "0.44079300268784827 0.9364\n",
      "0.5421477966668914 0.9199\n",
      "0.41838746069623023 0.9388\n",
      "0.4530470989045172 0.9378\n",
      "0.4752314444853332 0.9329\n",
      "0.4197020298671103 0.9422\n",
      "0.40289795544745466 0.9416\n",
      "0.4362184010630118 0.9402\n",
      "0.39924739439404383 0.9462\n",
      "0.4167554304909834 0.9402\n",
      "0.3766483564398313 0.9468\n",
      "0.3701037060569102 0.9477\n",
      "0.3932910751707165 0.9461\n",
      "0.37327370489263767 0.9496\n",
      "0.3868993280898096 0.9453\n",
      "0.4091943511821956 0.9436\n",
      "0.34642862320397433 0.9515\n",
      "0.38650600151485465 0.9435\n",
      "0.3750960414102017 0.9474\n",
      "0.35714398218672333 0.9517\n",
      "0.3765891977557906 0.9503\n",
      "0.3609661577212279 0.9512\n",
      "0.36368937064158297 0.9507\n",
      "0.38040249256142344 0.9464\n",
      "0.37698987613327417 0.9498\n",
      "0.3874604429172612 0.9471\n",
      "0.3589867607447862 0.95\n",
      "58.40710520744324 s\n"
     ]
    },
    {
     "data": {
      "image/png": "[encoded data removed]",
      "text/plain": [
       "<Figure size 432x288 with 1 Axes>"
      ]
     },
     "metadata": {
      "needs_background": "light"
     },
     "output_type": "display_data"
    },
    {
     "data": {
      "text/plain": [
       "[<matplotlib.lines.Line2D at 0x7eff9617b210>]"
      ]
     },
     "execution_count": 116,
     "metadata": {},
     "output_type": "execute_result"
    },
    {
     "data": {
      "image/png": "[encoded data removed]",
      "text/plain": [
       "<Figure size 432x288 with 1 Axes>"
      ]
     },
     "metadata": {
      "needs_background": "light"
     },
     "output_type": "display_data"
    }
   ],
   "source": [
    "lr=3.\n",
    "\n",
    "X=tr[0]\n",
    "# y=tr[1]\n",
    "y=vectorize_y(tr[1])\n",
    "N=len(X)\n",
    "batch_size=10\n",
    "n_ep=30\n",
    "\n",
    "losses=[]\n",
    "accs=[]\n",
    "np.random.seed(17)\n",
    "w1,b1=np.random.randn(n_in,n_hid),np.random.randn(n_hid)\n",
    "w2,b2=np.random.randn(n_hid,n_out),np.random.randn(n_out)\n",
    "t0=time()\n",
    "for ep in range(n_ep):\n",
    "    idxs=np.random.permutation(N)\n",
    "    for i in range(0,N,batch_size):\n",
    "        ibatch=idxs[i:i+batch_size]\n",
    "        xb,yb=X[ibatch],y[ibatch]\n",
    "        a1=sigmoid(xb@w1+b1)\n",
    "#         a2=softmax(a1@w2+b2)\n",
    "        a2=sigmoid(a1@w2+b2)\n",
    "\n",
    "#         # log-likelihood\n",
    "#         d2=np.zeros_like(a2)\n",
    "#         d2[np.arange(len(d2)),yb]=a2[np.arange(len(a2)),yb]-1.\n",
    "        # cross-entropy\n",
    "        d2=a2-yb\n",
    "        d1=d2@w2.T*sigmoid_prime(a1)\n",
    "        \n",
    "        gw2=a1.T@d2\n",
    "        gb2=d2.sum(axis=0)\n",
    "        gw1=xb.T@d1\n",
    "        gb1=d1.sum(axis=0)\n",
    "        \n",
    "        w2-=lr/batch_size*gw2\n",
    "        b2-=lr/batch_size*gb2\n",
    "        w1-=lr/batch_size*gw1\n",
    "        b1-=lr/batch_size*gb1\n",
    "    \n",
    "#     probs=softmax(sigmoid(te[0]@w1+b1)@w2+b2)\n",
    "#     loss=-np.log(probs[np.arange(len(probs)),te[1]]).sum()/len(probs)\n",
    "    probs=sigmoid(sigmoid(te[0]@w1+b1)@w2+b2)\n",
    "    vy=vectorize_y(te[1])\n",
    "    loss=-(vy*np.log(probs)+(1.-vy)*np.log(1.-probs)).sum()/len(probs)\n",
    "    acc=np.mean(np.argmax(probs,axis=1)==te[1])\n",
    "    print(loss,acc)\n",
    "    losses.append(loss)\n",
    "    accs.append(acc)\n",
    "print(time()-t0,'s')\n",
    "plt.plot(losses)\n",
    "plt.show()\n",
    "plt.plot(accs)"
   ]
  },
  {
   "cell_type": "code",
   "execution_count": 267,
   "metadata": {},
   "outputs": [
    {
     "name": "stdout",
     "output_type": "stream",
     "text": [
      "tensor(0.3577) tensor(0.8932)\n",
      "tensor(0.3179) tensor(0.9081)\n",
      "tensor(0.2748) tensor(0.9231)\n",
      "23.523262977600098 s\n"
     ]
    }
   ],
   "source": [
    "X,y=torch.tensor(tr[0]),torch.tensor(tr[1])\n",
    "N=len(X)\n",
    "# N=5\n",
    "# ds=TensorDataset(X,y)\n",
    "\n",
    "class Linear(nn.Module):\n",
    "    def __init__(self,n_in,n_out):\n",
    "        super().__init__()\n",
    "        self.w=nn.Parameter(torch.from_numpy(np.asarray(np.random.randn(n_in,n_out),dtype=np.float32)))\n",
    "        self.b=nn.Parameter(torch.zeros(n_out))\n",
    "    def forward(self,x): return x@self.w+self.b\n",
    "class Sigmoid(nn.Module):\n",
    "    def forward(self,x): return 1./(1.+(-x).exp())\n",
    "class LogSoftmax(nn.Module):\n",
    "    def forward(self,x): return x-x.exp().sum(dim=1,keepdim=True).log()\n",
    "# class Linear:\n",
    "#     def __init__(self,n_in,n_out):\n",
    "#         self.w=torch.tensor(np.random.randn(n_in,n_out),dtype=torch.float,requires_grad=True)\n",
    "#         self.b=torch.zeros(n_out,requires_grad=True)\n",
    "#     def __call__(self,x): return x@self.w+self.b\n",
    "# class Sigmoid:\n",
    "#     def __call__(self,x): return 1./(1.+(-x).exp())\n",
    "# class LogSoftmax:\n",
    "#     def __call__(self,x): return x-x.exp().sum(dim=1,keepdim=True).log()\n",
    "\n",
    "np.random.seed(1)\n",
    "torch.manual_seed(1)\n",
    "n_hid=30\n",
    "l1=Linear(n_in,n_hid)\n",
    "sig1=Sigmoid()\n",
    "l2=Linear(n_hid,n_out)\n",
    "smax2=LogSoftmax()\n",
    "# print(l1.w,'\\n',l2.w)\n",
    "m=nn.Sequential(\n",
    "#     nn.Linear(n_in,n_hid)\n",
    "    l1\n",
    "    ,nn.Sigmoid()\n",
    "#     ,sig1\n",
    "#     ,nn.Linear(n_hid,n_out)\n",
    "    ,l2\n",
    "#     ,smax2\n",
    "    ,nn.LogSoftmax(dim=1)\n",
    ")\n",
    "\n",
    "batch_size=10\n",
    "n_ep=3\n",
    "lr=.45\n",
    "\n",
    "losses=[]\n",
    "accs=[]\n",
    "opt=optim.SGD(m.parameters(),lr=lr)\n",
    "t0=time()\n",
    "def loss_fn(p,targ): return -p[torch.arange(len(p)),targ].sum()/len(p)\n",
    "def predict(x): return m(x)\n",
    "# def predict(x): return smax2(l2(sig1(l1(x))))\n",
    "np.random.seed(1)\n",
    "for ep in range(n_ep):\n",
    "    idxs=np.random.permutation(N)\n",
    "    for i in range(0,N,batch_size):\n",
    "        ibatch=idxs[i:i+batch_size]\n",
    "#         print(ibatch)\n",
    "        xb,yb=X[ibatch],y[ibatch]\n",
    "#     dl=DataLoader(ds,batch_size=batch_size,shuffle=True)\n",
    "#     for xb,yb in dl:\n",
    "        probs=predict(xb)\n",
    "#         loss=F.nll_loss(probs,yb)\n",
    "        loss=loss_fn(probs,yb)\n",
    "#         print(probs)\n",
    "#         loss=loss_fn(probs,yb)\n",
    "#         print(loss)\n",
    "        loss.backward()\n",
    "#         loss_fn(probs,yb).backward()\n",
    "#         opt.step()\n",
    "#         opt.zero_grad()\n",
    "        with torch.no_grad():\n",
    "            for p in m.parameters():\n",
    "#             for p in [l1.w,l1.b,l2.w,l2.b]:\n",
    "#                 print(p.grad.reshape(-1)[:3])\n",
    "#                 print('before',p,'grad',p.grad)\n",
    "                p-=lr*p.grad\n",
    "#                 print('after',p)\n",
    "                p.grad.zero_()\n",
    "    \n",
    "    with torch.no_grad():\n",
    "        probs=predict(torch.tensor(te[0]))\n",
    "        vy=torch.tensor(te[1])\n",
    "#         loss=F.nll_loss(probs,vy)\n",
    "        loss=loss_fn(probs,vy)\n",
    "        losses.append(loss)\n",
    "        acc=(probs.argmax(axis=1)==vy).float().mean()\n",
    "        accs.append(acc)\n",
    "        print(losses[-1],accs[-1])\n",
    "print(time()-t0,'s')\n",
    "# plt.plot(losses)\n",
    "# plt.show()\n",
    "# plt.plot(accs)"
   ]
  },
  {
   "cell_type": "code",
   "execution_count": 167,
   "metadata": {},
   "outputs": [
    {
     "name": "stdout",
     "output_type": "stream",
     "text": [
      "tensor(0.33745047, dtype=float32) tensor(0.9026)\n",
      "tensor(0.27811417, dtype=float32) tensor(0.918)\n",
      "tensor(0.26602763, dtype=float32) tensor(0.923)\n",
      "tensor(0.24402644, dtype=float32) tensor(0.9281)\n",
      "tensor(0.22023076, dtype=float32) tensor(0.9377)\n",
      "tensor(0.20807666, dtype=float32) tensor(0.9417)\n",
      "tensor(0.19453724, dtype=float32) tensor(0.9412)\n",
      "tensor(0.20017874, dtype=float32) tensor(0.9433)\n",
      "tensor(0.21266308, dtype=float32) tensor(0.9423)\n",
      "tensor(0.19948587, dtype=float32) tensor(0.9462)\n",
      "58.47255229949951 s\n"
     ]
    }
   ],
   "source": [
    "# %%prun\n",
    "# X,y=mytorch.tensor(tr[0]),mytorch.tensor(vectorize_y(tr[1]))\n",
    "X,y=mytorch.tensor(tr[0]),mytorch.tensor(tr[1])\n",
    "# print(X.dtype,y.dtype)\n",
    "n_hid=30\n",
    "N=len(X)\n",
    "# N=10\n",
    "n_ep=10\n",
    "lr=.5\n",
    "batch_size=10\n",
    "\n",
    "np.random.seed(1)\n",
    "mytorch.manual_seed(1)\n",
    "m=mytorch.Seq(\n",
    "    mytorch.Linear(n_in,n_hid)\n",
    "    ,mytorch.Sigmoid()\n",
    "    ,mytorch.Linear(n_hid,n_out)\n",
    "#     ,mytorch.Sigmoid()\n",
    "    ,mytorch.LogSoftmax()\n",
    "#     ,mytorch.Softmax()\n",
    ").to(mytorch.float32)\n",
    "# print(m.modules[0].w.dtype,m.modules[0].b.dtype,m.modules[2].w.dtype,m.modules[2].b.dtype)\n",
    "losses,accs=[],[]\n",
    "t0=time()\n",
    "for ep in range(n_ep):\n",
    "    idxs=np.random.permutation(N)\n",
    "    for i in range(0,N,batch_size):\n",
    "        ibatch=idxs[i:i+batch_size]\n",
    "#         print(ibatch)\n",
    "        xb,yb=X[ibatch],y[ibatch]\n",
    "#         loss=cross_entropy(m(xb),yb)\n",
    "#         print(xb.dtype,m(xb).dtype)\n",
    "        loss=nll_loss(m(xb),yb)\n",
    "#         print('loss',loss.dtype)\n",
    "#         print(loss)\n",
    "        loss.backward()\n",
    "        with mytorch.no_grad():\n",
    "            for p in m.params():\n",
    "#                 print(p.mean(),p.grad.mean())\n",
    "#                 print('grad',p.grad.dtype)\n",
    "                p-=lr*p.grad\n",
    "                p.grad.zero_()\n",
    "                \n",
    "    with mytorch.no_grad():\n",
    "        probs=m(mytorch.tensor(te[0]))\n",
    "#         losses.append(cross_entropy(probs,vectorize_y(te[1])))\n",
    "        vy=mytorch.tensor(te[1])\n",
    "        losses.append(nll_loss(probs,vy))\n",
    "        accs.append(accuracy(probs,vy))\n",
    "        print(losses[-1],accs[-1])\n",
    "print(time()-t0,'s')\n",
    "losses=mytorch.tensor(losses)\n",
    "accs=mytorch.tensor(accs)\n",
    "# plt.plot(losses)\n",
    "# plt.show()\n",
    "# plt.plot(accs)"
   ]
  },
  {
   "cell_type": "code",
   "execution_count": 132,
   "metadata": {},
   "outputs": [
    {
     "name": "stdout",
     "output_type": "stream",
     "text": [
      " "
     ]
    }
   ],
   "source": [
    "%%prun\n",
    "s=mytorch.tensor(7.,do_grad=False)\n",
    "u=mytorch.tensor(8.,do_grad=False)\n",
    "for _ in range(300000):\n",
    "    t=s*u\n",
    "#     t.backward()\n",
    "#     s.grad.zero_()\n",
    "s.grad,u.grad"
   ]
  },
  {
   "cell_type": "code",
   "execution_count": 280,
   "metadata": {},
   "outputs": [],
   "source": [
    "class Resize(mytorch.Module):\n",
    "    def forward(self,x): return x.reshape((-1,1,28,28))\n",
    "class Flatten(mytorch.Module):\n",
    "    def forward(self,x): return x.reshape((len(x),-1))\n",
    "\n",
    "# def getm():\n",
    "#     return mytorch.Seq(\n",
    "#         Resize() # 784 -> 1x28x28\n",
    "#         ,mytorch.Conv2d(1,8,5,padding=2,stride=2),mytorch.ReLU() # -> 8x14x14\n",
    "#         ,mytorch.Conv2d(8,16,3,padding=1,stride=2),mytorch.ReLU() # -> 16x7x7\n",
    "#         ,mytorch.Conv2d(16,32,3,padding=1,stride=2),mytorch.ReLU() # -> 32x4x4\n",
    "#         ,mytorch.Conv2d(32,32,3,padding=1,stride=2),mytorch.ReLU() # -> 32x2x2\n",
    "#         ,Flatten()\n",
    "#         ,mytorch.Linear(128,10)\n",
    "#     ).to(mytorch.float32)\n",
    "\n",
    "def getm():\n",
    "    return mytorch.Seq(\n",
    "        Resize() # 784 -> 1x28x28\n",
    "        ,mytorch.Conv2d(1,16,7,padding=3,stride=2),mytorch.ReLU() #14\n",
    "        ,mytorch.Conv2d(16,16,3,padding=1,stride=2),mytorch.ReLU() #7\n",
    "        ,Flatten()\n",
    "        ,mytorch.Linear(16*7*7,10)\n",
    "    ).to(mytorch.float32)\n",
    "\n",
    "# nh=50\n",
    "# def getm():\n",
    "#     return mytorch.Seq(\n",
    "#         mytorch.Linear(n_in,nh),mytorch.ReLU()\n",
    "#         ,mytorch.Linear(nh,10)\n",
    "#     ).to(mytorch.float32)\n",
    "\n",
    "# def getm():\n",
    "#     return mytorch.Seq(\n",
    "#         mytorch.Conv2d(1,20,5),mytorch.ReLU() # 20x24x24\n",
    "#         ,mytorch.MaxPool2d(2,stride=2) # 20x12x12\n",
    "#         ,Flatten() # 20*12*12\n",
    "#         ,mytorch.Linear(20*12*12,100),mytorch.ReLU() # 100\n",
    "#         ,mytorch.Linear(100,10)\n",
    "#     ).to(mytorch.float32)"
   ]
  },
  {
   "cell_type": "code",
   "execution_count": 324,
   "metadata": {},
   "outputs": [],
   "source": [
    "batch_size=100\n",
    "\n",
    "def getdl(x,y,shuffle=False,first_n=None):\n",
    "    if first_n: x,y=x[:first_n],y[:first_n]\n",
    "    x,y=map(mytorch.tensor,[x,y])\n",
    "    ds=mytorch.TensorDataset(x,y)\n",
    "    return mytorch.DataLoader(ds,bs=batch_size,shuffle=shuffle)\n",
    "\n",
    "# mytorch.manual_seed(1)\n",
    "trdl=getdl(*tr,shuffle=True)\n",
    "vadl=getdl(*va)\n",
    "# plt.imshow(next(iter(trdl))[0][3,0],cmap='gray')\n",
    "m=getm()"
   ]
  },
  {
   "cell_type": "code",
   "execution_count": 184,
   "metadata": {},
   "outputs": [
    {
     "data": {
      "text/plain": [
       "[None, None, None, None, None]"
      ]
     },
     "execution_count": 184,
     "metadata": {},
     "output_type": "execute_result"
    }
   ],
   "source": [
    "class Hook:\n",
    "    def __call__(self,m,x,out):\n",
    "        self.out=out.detach()\n",
    "        self.m=repr(m)\n",
    "hooks=[Hook() for _ in range(len(m))]\n",
    "[m[i].add_forward_hook(hooks[i]) for i in range(len(m))]"
   ]
  },
  {
   "cell_type": "code",
   "execution_count": 185,
   "metadata": {},
   "outputs": [
    {
     "data": {
      "text/plain": [
       "(tensor(0.13426088, dtype=float32), tensor(2.243127, dtype=float32))"
      ]
     },
     "execution_count": 185,
     "metadata": {},
     "output_type": "execute_result"
    }
   ],
   "source": [
    "xb,yb=next(iter(trdl))\n",
    "y=m(xb).detach_()\n",
    "y.mean(),y.var()"
   ]
  },
  {
   "cell_type": "code",
   "execution_count": 186,
   "metadata": {},
   "outputs": [
    {
     "data": {
      "text/plain": [
       "[(tensor(5.4790537e-05, dtype=float32),\n",
       "  tensor(0.9973425, dtype=float32),\n",
       "  'Resize'),\n",
       " (tensor(-0.09207549, dtype=float32),\n",
       "  tensor(3.6289299, dtype=float32),\n",
       "  'Conv2d(ch_in=1, ch_out=16, ksize=7, stride=2, padding=0)'),\n",
       " (tensor(0.63579684, dtype=float32), tensor(1.2847375, dtype=float32), 'ReLU'),\n",
       " (tensor(0.63579684, dtype=float32),\n",
       "  tensor(1.2847375, dtype=float32),\n",
       "  'Flatten'),\n",
       " (tensor(0.13426088, dtype=float32),\n",
       "  tensor(2.243127, dtype=float32),\n",
       "  'Linear(n_in=1936, n_out=10, bias=True)')]"
      ]
     },
     "execution_count": 186,
     "metadata": {},
     "output_type": "execute_result"
    }
   ],
   "source": [
    "[(h.out.mean(),h.out.var(),h.m) for h in hooks]"
   ]
  },
  {
   "cell_type": "code",
   "execution_count": 187,
   "metadata": {},
   "outputs": [
    {
     "data": {
      "text/plain": [
       "[(tensor(-0.00937025, dtype=float32, fn=<DivFn>),\n",
       "  tensor(0.04543664, dtype=float32)),\n",
       " (tensor(0., dtype=float32, fn=<DivFn>), tensor(0., dtype=float32)),\n",
       " (tensor(7.1415125e-05, dtype=float32, fn=<DivFn>),\n",
       "  tensor(0.00103117, dtype=float32)),\n",
       " (tensor(0., dtype=float32, fn=<DivFn>), tensor(0., dtype=float32))]"
      ]
     },
     "execution_count": 187,
     "metadata": {},
     "output_type": "execute_result"
    }
   ],
   "source": [
    "[(p.mean(),p.var()) for p in m.params()]"
   ]
  },
  {
   "cell_type": "code",
   "execution_count": 188,
   "metadata": {},
   "outputs": [
    {
     "data": {
      "text/plain": [
       "[(tensor(0.0092422, dtype=float32), tensor(0.001879, dtype=float32)),\n",
       " (tensor(0.04087089, dtype=float32), tensor(0.00175787, dtype=float32)),\n",
       " (tensor(1.2776823e-10, dtype=float32), tensor(0.00590472, dtype=float32)),\n",
       " (tensor(-1.8626451e-09, dtype=float32), tensor(0.00474868, dtype=float32))]"
      ]
     },
     "execution_count": 188,
     "metadata": {},
     "output_type": "execute_result"
    }
   ],
   "source": [
    "opt.zero_grad()\n",
    "xb,yb=next(iter(trdl))\n",
    "mytorch.cross_entropy(m(xb),yb).backward()\n",
    "[(p.grad.mean(),p.grad.var()) for p in m.params()]"
   ]
  },
  {
   "cell_type": "code",
   "execution_count": 339,
   "metadata": {},
   "outputs": [
    {
     "name": "stdout",
     "output_type": "stream",
     "text": [
      "train loss 0.015099644417059608\n",
      "train accuracy tensor(0.99604)\n",
      "tensor(0.9853) tensor(0.05863654)\n",
      "17.076802492141724 s\n"
     ]
    }
   ],
   "source": [
    "lr=.0001\n",
    "n_ep=1\n",
    "opt=mytorch.SGD(m.params(),lr)\n",
    "\n",
    "t0=time()\n",
    "for ep in range(n_ep):\n",
    "    totloss=0.\n",
    "    for xb,yb in trdl:\n",
    "#         print(xb.sum(),yb.sum())\n",
    "        loss=mytorch.cross_entropy(m(xb),yb)\n",
    "        totloss+=loss.v*batch_size\n",
    "#         print(loss)\n",
    "        loss.backward()\n",
    "        opt.step()\n",
    "    print('train loss',totloss/len(trdl))\n",
    "\n",
    "    with mytorch.no_grad():\n",
    "        acc=0.\n",
    "        for xb,yb in trdl:\n",
    "            yhat=mytorch.log_softmax(m(xb))\n",
    "            acc+=(yhat.argmax(axis=1)==yb).sum()\n",
    "        print('train accuracy',acc/len(trdl))\n",
    "        loss=0.\n",
    "        acc=0.\n",
    "        for xb,yb in vadl:\n",
    "            yhat=mytorch.log_softmax(m(xb))\n",
    "            acc+=(yhat.argmax(axis=1)==yb).sum()\n",
    "            loss+=mytorch.nll_loss(yhat,yb)*batch_size\n",
    "        print(acc/len(vadl),loss/len(vadl))\n",
    "print(time()-t0,'s')"
   ]
  },
  {
   "cell_type": "code",
   "execution_count": 354,
   "metadata": {},
   "outputs": [
    {
     "name": "stdout",
     "output_type": "stream",
     "text": [
      "Seq(\n",
      "  0: Resize\n",
      "  1: Conv2d(ch_in=1, ch_out=16, ksize=7, stride=2, padding=3)\n",
      "  2: ReLU\n",
      "  3: Conv2d(ch_in=16, ch_out=16, ksize=3, stride=2, padding=1)\n",
      "  4: ReLU\n",
      ")\n",
      "tensor(-16.19105, dtype=float32, fn=<NegFn>) tensor(121)\n",
      "tensor(-16.541367, dtype=float32, fn=<NegFn>) tensor(121)\n",
      "tensor(-16.88867, dtype=float32, fn=<NegFn>) tensor(121)\n",
      "tensor(-17.234097, dtype=float32, fn=<NegFn>) tensor(121)\n",
      "tensor(-17.579529, dtype=float32, fn=<NegFn>) tensor(121)\n",
      "tensor(-17.92496, dtype=float32, fn=<NegFn>) tensor(121)\n",
      "tensor(-18.270393, dtype=float32, fn=<NegFn>) tensor(121)\n",
      "tensor(-18.615822, dtype=float32, fn=<NegFn>) tensor(121)\n",
      "tensor(-18.961256, dtype=float32, fn=<NegFn>) tensor(121)\n",
      "tensor(-19.306684, dtype=float32, fn=<NegFn>) tensor(121)\n",
      "tensor(-19.652596, dtype=float32, fn=<NegFn>) tensor(121)\n",
      "tensor(-19.999191, dtype=float32, fn=<NegFn>) tensor(121)\n",
      "tensor(-20.345778, dtype=float32, fn=<NegFn>) tensor(121)\n",
      "tensor(-20.692013, dtype=float32, fn=<NegFn>) tensor(121)\n",
      "tensor(-21.035788, dtype=float32, fn=<NegFn>) tensor(121)\n",
      "tensor(-21.36105, dtype=float32, fn=<NegFn>) tensor(121)\n",
      "tensor(-21.665031, dtype=float32, fn=<NegFn>) tensor(121)\n",
      "tensor(-21.969492, dtype=float32, fn=<NegFn>) tensor(121)\n",
      "tensor(-22.270699, dtype=float32, fn=<NegFn>) tensor(121)\n",
      "tensor(-22.574724, dtype=float32, fn=<NegFn>) tensor(121)\n",
      "tensor(-22.876879, dtype=float32, fn=<NegFn>) tensor(121)\n",
      "tensor(-23.178745, dtype=float32, fn=<NegFn>) tensor(121)\n",
      "tensor(-23.481516, dtype=float32, fn=<NegFn>) tensor(121)\n",
      "tensor(-23.783098, dtype=float32, fn=<NegFn>) tensor(121)\n",
      "tensor(-24.085054, dtype=float32, fn=<NegFn>) tensor(121)\n",
      "tensor(-24.3858, dtype=float32, fn=<NegFn>) tensor(121)\n",
      "tensor(-24.686834, dtype=float32, fn=<NegFn>) tensor(121)\n",
      "tensor(-24.990055, dtype=float32, fn=<NegFn>) tensor(121)\n",
      "tensor(-25.29182, dtype=float32, fn=<NegFn>) tensor(121)\n",
      "tensor(-25.592024, dtype=float32, fn=<NegFn>) tensor(121)\n",
      "tensor(-25.890602, dtype=float32, fn=<NegFn>) tensor(121)\n",
      "tensor(-26.187357, dtype=float32, fn=<NegFn>) tensor(121)\n",
      "tensor(-26.484493, dtype=float32, fn=<NegFn>) tensor(121)\n",
      "tensor(-26.780617, dtype=float32, fn=<NegFn>) tensor(121)\n",
      "tensor(-27.077976, dtype=float32, fn=<NegFn>) tensor(121)\n",
      "tensor(-27.375395, dtype=float32, fn=<NegFn>) tensor(121)\n",
      "tensor(-27.672615, dtype=float32, fn=<NegFn>) tensor(121)\n",
      "tensor(-27.969975, dtype=float32, fn=<NegFn>) tensor(121)\n",
      "tensor(-28.265678, dtype=float32, fn=<NegFn>) tensor(121)\n",
      "tensor(-28.56156, dtype=float32, fn=<NegFn>) tensor(121)\n",
      "tensor(-28.857323, dtype=float32, fn=<NegFn>) tensor(121)\n",
      "tensor(-29.152004, dtype=float32, fn=<NegFn>) tensor(121)\n",
      "tensor(-29.446964, dtype=float32, fn=<NegFn>) tensor(121)\n",
      "tensor(-29.747967, dtype=float32, fn=<NegFn>) tensor(121)\n",
      "tensor(-30.048622, dtype=float32, fn=<NegFn>) tensor(121)\n",
      "tensor(-30.348927, dtype=float32, fn=<NegFn>) tensor(121)\n",
      "tensor(-30.6482, dtype=float32, fn=<NegFn>) tensor(121)\n",
      "tensor(-30.949265, dtype=float32, fn=<NegFn>) tensor(121)\n",
      "tensor(-31.249157, dtype=float32, fn=<NegFn>) tensor(121)\n",
      "tensor(-31.538544, dtype=float32, fn=<NegFn>) tensor(121)\n",
      "tensor(-31.83368, dtype=float32, fn=<NegFn>) tensor(121)\n",
      "tensor(-32.12742, dtype=float32, fn=<NegFn>) tensor(121)\n",
      "tensor(-32.422085, dtype=float32, fn=<NegFn>) tensor(121)\n",
      "tensor(-32.713913, dtype=float32, fn=<NegFn>) tensor(121)\n",
      "tensor(-33.008778, dtype=float32, fn=<NegFn>) tensor(121)\n",
      "tensor(-33.299767, dtype=float32, fn=<NegFn>) tensor(121)\n",
      "tensor(-33.594543, dtype=float32, fn=<NegFn>) tensor(121)\n",
      "tensor(-33.887062, dtype=float32, fn=<NegFn>) tensor(121)\n",
      "tensor(-34.18032, dtype=float32, fn=<NegFn>) tensor(121)\n",
      "tensor(-34.46537, dtype=float32, fn=<NegFn>) tensor(121)\n",
      "tensor(-34.759636, dtype=float32, fn=<NegFn>) tensor(121)\n",
      "tensor(-35.041534, dtype=float32, fn=<NegFn>) tensor(121)\n",
      "tensor(-35.335667, dtype=float32, fn=<NegFn>) tensor(121)\n",
      "tensor(-35.620083, dtype=float32, fn=<NegFn>) tensor(121)\n",
      "tensor(-35.912643, dtype=float32, fn=<NegFn>) tensor(121)\n",
      "tensor(-36.194736, dtype=float32, fn=<NegFn>) tensor(121)\n",
      "tensor(-36.485905, dtype=float32, fn=<NegFn>) tensor(121)\n",
      "tensor(-36.77271, dtype=float32, fn=<NegFn>) tensor(121)\n",
      "tensor(-37.06172, dtype=float32, fn=<NegFn>) tensor(121)\n",
      "tensor(-37.350845, dtype=float32, fn=<NegFn>) tensor(121)\n",
      "tensor(-37.63864, dtype=float32, fn=<NegFn>) tensor(121)\n",
      "tensor(-37.929375, dtype=float32, fn=<NegFn>) tensor(121)\n",
      "tensor(-38.206467, dtype=float32, fn=<NegFn>) tensor(121)\n",
      "tensor(-38.50495, dtype=float32, fn=<NegFn>) tensor(121)\n",
      "tensor(-38.78714, dtype=float32, fn=<NegFn>) tensor(121)\n",
      "tensor(-39.08261, dtype=float32, fn=<NegFn>) tensor(121)\n",
      "tensor(-39.36602, dtype=float32, fn=<NegFn>) tensor(121)\n",
      "tensor(-39.65638, dtype=float32, fn=<NegFn>) tensor(121)\n",
      "tensor(-39.9454, dtype=float32, fn=<NegFn>) tensor(121)\n",
      "tensor(-40.23069, dtype=float32, fn=<NegFn>) tensor(121)\n",
      "tensor(-40.523144, dtype=float32, fn=<NegFn>) tensor(121)\n",
      "tensor(-40.80745, dtype=float32, fn=<NegFn>) tensor(121)\n",
      "tensor(-41.098473, dtype=float32, fn=<NegFn>) tensor(121)\n",
      "tensor(-41.38338, dtype=float32, fn=<NegFn>) tensor(121)\n",
      "tensor(-41.677055, dtype=float32, fn=<NegFn>) tensor(121)\n",
      "tensor(-41.95912, dtype=float32, fn=<NegFn>) tensor(121)\n",
      "tensor(-42.251297, dtype=float32, fn=<NegFn>) tensor(121)\n",
      "tensor(-42.53566, dtype=float32, fn=<NegFn>) tensor(121)\n",
      "tensor(-42.825493, dtype=float32, fn=<NegFn>) tensor(121)\n",
      "tensor(-43.115795, dtype=float32, fn=<NegFn>) tensor(121)\n",
      "tensor(-43.39782, dtype=float32, fn=<NegFn>) tensor(121)\n",
      "tensor(-43.69157, dtype=float32, fn=<NegFn>) tensor(121)\n",
      "tensor(-43.977768, dtype=float32, fn=<NegFn>) tensor(121)\n",
      "tensor(-44.2645, dtype=float32, fn=<NegFn>) tensor(121)\n",
      "tensor(-44.54296, dtype=float32, fn=<NegFn>) tensor(121)\n",
      "tensor(-44.840107, dtype=float32, fn=<NegFn>) tensor(121)\n",
      "tensor(-45.12614, dtype=float32, fn=<NegFn>) tensor(121)\n",
      "tensor(-45.410004, dtype=float32, fn=<NegFn>) tensor(121)\n",
      "tensor(-45.693707, dtype=float32, fn=<NegFn>) tensor(121)\n",
      "tensor(-45.975574, dtype=float32, fn=<NegFn>) tensor(121)\n",
      "tensor(-46.267338, dtype=float32, fn=<NegFn>) tensor(121)\n",
      "tensor(-46.558716, dtype=float32, fn=<NegFn>) tensor(121)\n",
      "tensor(-46.831116, dtype=float32, fn=<NegFn>) tensor(121)\n",
      "tensor(-47.123867, dtype=float32, fn=<NegFn>) tensor(121)\n",
      "tensor(-47.415134, dtype=float32, fn=<NegFn>) tensor(121)\n",
      "tensor(-47.68824, dtype=float32, fn=<NegFn>) tensor(121)\n",
      "tensor(-47.98574, dtype=float32, fn=<NegFn>) tensor(121)\n",
      "tensor(-48.268055, dtype=float32, fn=<NegFn>) tensor(121)\n",
      "tensor(-48.551598, dtype=float32, fn=<NegFn>) tensor(121)\n",
      "tensor(-48.84415, dtype=float32, fn=<NegFn>) tensor(121)\n",
      "tensor(-49.13245, dtype=float32, fn=<NegFn>) tensor(121)\n",
      "tensor(-49.40375, dtype=float32, fn=<NegFn>) tensor(121)\n",
      "tensor(-49.70011, dtype=float32, fn=<NegFn>) tensor(121)\n",
      "tensor(-49.98063, dtype=float32, fn=<NegFn>) tensor(121)\n",
      "tensor(-50.266872, dtype=float32, fn=<NegFn>) tensor(121)\n",
      "tensor(-50.555824, dtype=float32, fn=<NegFn>) tensor(121)\n",
      "tensor(-50.832222, dtype=float32, fn=<NegFn>) tensor(121)\n",
      "tensor(-51.12926, dtype=float32, fn=<NegFn>) tensor(121)\n",
      "tensor(-51.416267, dtype=float32, fn=<NegFn>) tensor(121)\n",
      "tensor(-51.690147, dtype=float32, fn=<NegFn>) tensor(121)\n",
      "tensor(-51.977932, dtype=float32, fn=<NegFn>) tensor(121)\n",
      "tensor(-52.272236, dtype=float32, fn=<NegFn>) tensor(121)\n",
      "tensor(-52.54671, dtype=float32, fn=<NegFn>) tensor(121)\n",
      "tensor(-52.82987, dtype=float32, fn=<NegFn>) tensor(121)\n",
      "tensor(-53.117954, dtype=float32, fn=<NegFn>) tensor(121)\n",
      "tensor(-53.405785, dtype=float32, fn=<NegFn>) tensor(121)\n",
      "tensor(-53.690575, dtype=float32, fn=<NegFn>) tensor(121)\n",
      "tensor(-53.96882, dtype=float32, fn=<NegFn>) tensor(121)\n",
      "tensor(-54.2658, dtype=float32, fn=<NegFn>) tensor(121)\n",
      "tensor(-54.549065, dtype=float32, fn=<NegFn>) tensor(121)\n",
      "tensor(-54.833996, dtype=float32, fn=<NegFn>) tensor(121)\n",
      "tensor(-55.114807, dtype=float32, fn=<NegFn>) tensor(121)\n",
      "tensor(-55.3957, dtype=float32, fn=<NegFn>) tensor(121)\n",
      "tensor(-55.683304, dtype=float32, fn=<NegFn>) tensor(121)\n",
      "tensor(-55.967464, dtype=float32, fn=<NegFn>) tensor(121)\n",
      "tensor(-56.24908, dtype=float32, fn=<NegFn>) tensor(121)\n",
      "tensor(-56.541542, dtype=float32, fn=<NegFn>) tensor(121)\n",
      "tensor(-56.821625, dtype=float32, fn=<NegFn>) tensor(121)\n",
      "tensor(-57.103172, dtype=float32, fn=<NegFn>) tensor(121)\n",
      "tensor(-57.39942, dtype=float32, fn=<NegFn>) tensor(121)\n",
      "tensor(-57.67623, dtype=float32, fn=<NegFn>) tensor(121)\n",
      "tensor(-57.962975, dtype=float32, fn=<NegFn>) tensor(121)\n",
      "tensor(-58.25244, dtype=float32, fn=<NegFn>) tensor(121)\n",
      "tensor(-58.531845, dtype=float32, fn=<NegFn>) tensor(121)\n",
      "tensor(-58.81849, dtype=float32, fn=<NegFn>) tensor(121)\n",
      "tensor(-59.100582, dtype=float32, fn=<NegFn>) tensor(121)\n",
      "tensor(-59.38478, dtype=float32, fn=<NegFn>) tensor(121)\n",
      "tensor(-59.67723, dtype=float32, fn=<NegFn>) tensor(121)\n",
      "tensor(-59.956398, dtype=float32, fn=<NegFn>) tensor(121)\n",
      "tensor(-60.24675, dtype=float32, fn=<NegFn>) tensor(121)\n",
      "tensor(-60.53386, dtype=float32, fn=<NegFn>) tensor(121)\n",
      "tensor(-60.810413, dtype=float32, fn=<NegFn>) tensor(121)\n",
      "tensor(-61.103382, dtype=float32, fn=<NegFn>) tensor(121)\n",
      "tensor(-61.381924, dtype=float32, fn=<NegFn>) tensor(121)\n",
      "tensor(-61.65796, dtype=float32, fn=<NegFn>) tensor(121)\n",
      "tensor(-61.953598, dtype=float32, fn=<NegFn>) tensor(121)\n",
      "tensor(-62.23677, dtype=float32, fn=<NegFn>) tensor(121)\n",
      "tensor(-62.516907, dtype=float32, fn=<NegFn>) tensor(121)\n",
      "tensor(-62.812347, dtype=float32, fn=<NegFn>) tensor(121)\n",
      "tensor(-63.088634, dtype=float32, fn=<NegFn>) tensor(121)\n",
      "tensor(-63.37908, dtype=float32, fn=<NegFn>) tensor(121)\n",
      "tensor(-63.667397, dtype=float32, fn=<NegFn>) tensor(121)\n",
      "tensor(-63.94081, dtype=float32, fn=<NegFn>) tensor(121)\n",
      "tensor(-64.24038, dtype=float32, fn=<NegFn>) tensor(121)\n",
      "tensor(-64.51054, dtype=float32, fn=<NegFn>) tensor(121)\n",
      "tensor(-64.793015, dtype=float32, fn=<NegFn>) tensor(121)\n",
      "tensor(-65.086006, dtype=float32, fn=<NegFn>) tensor(121)\n",
      "tensor(-65.36686, dtype=float32, fn=<NegFn>) tensor(121)\n",
      "tensor(-65.655106, dtype=float32, fn=<NegFn>) tensor(121)\n",
      "tensor(-65.9389, dtype=float32, fn=<NegFn>) tensor(121)\n",
      "tensor(-66.218185, dtype=float32, fn=<NegFn>) tensor(121)\n",
      "tensor(-66.505936, dtype=float32, fn=<NegFn>) tensor(121)\n",
      "tensor(-66.77906, dtype=float32, fn=<NegFn>) tensor(121)\n",
      "tensor(-67.06524, dtype=float32, fn=<NegFn>) tensor(121)\n",
      "tensor(-67.356926, dtype=float32, fn=<NegFn>) tensor(121)\n",
      "tensor(-67.62742, dtype=float32, fn=<NegFn>) tensor(121)\n",
      "tensor(-67.91522, dtype=float32, fn=<NegFn>) tensor(121)\n",
      "tensor(-68.19323, dtype=float32, fn=<NegFn>) tensor(121)\n",
      "tensor(-68.47352, dtype=float32, fn=<NegFn>) tensor(121)\n",
      "tensor(-68.76845, dtype=float32, fn=<NegFn>) tensor(121)\n",
      "tensor(-69.04599, dtype=float32, fn=<NegFn>) tensor(121)\n",
      "tensor(-69.32952, dtype=float32, fn=<NegFn>) tensor(121)\n",
      "tensor(-69.61474, dtype=float32, fn=<NegFn>) tensor(121)\n",
      "tensor(-69.891785, dtype=float32, fn=<NegFn>) tensor(121)\n",
      "tensor(-70.18433, dtype=float32, fn=<NegFn>) tensor(121)\n",
      "tensor(-70.46455, dtype=float32, fn=<NegFn>) tensor(121)\n",
      "tensor(-70.73788, dtype=float32, fn=<NegFn>) tensor(121)\n",
      "tensor(-71.03246, dtype=float32, fn=<NegFn>) tensor(121)\n",
      "tensor(-71.298836, dtype=float32, fn=<NegFn>) tensor(121)\n",
      "tensor(-71.579636, dtype=float32, fn=<NegFn>) tensor(121)\n",
      "tensor(-71.87389, dtype=float32, fn=<NegFn>) tensor(121)\n",
      "tensor(-72.156075, dtype=float32, fn=<NegFn>) tensor(121)\n",
      "tensor(-72.43763, dtype=float32, fn=<NegFn>) tensor(121)\n",
      "tensor(-72.7287, dtype=float32, fn=<NegFn>) tensor(121)\n",
      "tensor(-73.00786, dtype=float32, fn=<NegFn>) tensor(121)\n",
      "tensor(-73.29447, dtype=float32, fn=<NegFn>) tensor(121)\n",
      "tensor(-73.569824, dtype=float32, fn=<NegFn>) tensor(121)\n",
      "tensor(-73.85696, dtype=float32, fn=<NegFn>) tensor(121)\n",
      "tensor(-74.142204, dtype=float32, fn=<NegFn>) tensor(121)\n",
      "tensor(-74.41065, dtype=float32, fn=<NegFn>) tensor(121)\n",
      "tensor(-74.70373, dtype=float32, fn=<NegFn>) tensor(121)\n",
      "tensor(-74.98847, dtype=float32, fn=<NegFn>) tensor(121)\n",
      "tensor(-75.269875, dtype=float32, fn=<NegFn>) tensor(121)\n",
      "tensor(-75.558426, dtype=float32, fn=<NegFn>) tensor(121)\n",
      "tensor(-75.82922, dtype=float32, fn=<NegFn>) tensor(121)\n",
      "tensor(-76.11353, dtype=float32, fn=<NegFn>) tensor(121)\n",
      "tensor(-76.40578, dtype=float32, fn=<NegFn>) tensor(121)\n",
      "tensor(-76.68078, dtype=float32, fn=<NegFn>) tensor(121)\n",
      "tensor(-76.97377, dtype=float32, fn=<NegFn>) tensor(121)\n",
      "tensor(-77.25422, dtype=float32, fn=<NegFn>) tensor(121)\n",
      "tensor(-77.53184, dtype=float32, fn=<NegFn>) tensor(121)\n",
      "tensor(-77.81119, dtype=float32, fn=<NegFn>) tensor(121)\n",
      "tensor(-78.09556, dtype=float32, fn=<NegFn>) tensor(121)\n",
      "tensor(-78.38238, dtype=float32, fn=<NegFn>) tensor(121)\n",
      "tensor(-78.66366, dtype=float32, fn=<NegFn>) tensor(121)\n",
      "tensor(-78.94002, dtype=float32, fn=<NegFn>) tensor(121)\n",
      "tensor(-79.23521, dtype=float32, fn=<NegFn>) tensor(121)\n",
      "tensor(-79.514915, dtype=float32, fn=<NegFn>) tensor(121)\n",
      "tensor(-79.79621, dtype=float32, fn=<NegFn>) tensor(121)\n",
      "tensor(-80.08209, dtype=float32, fn=<NegFn>) tensor(121)\n",
      "tensor(-80.357475, dtype=float32, fn=<NegFn>) tensor(121)\n",
      "tensor(-80.64497, dtype=float32, fn=<NegFn>) tensor(121)\n",
      "tensor(-80.92301, dtype=float32, fn=<NegFn>) tensor(121)\n",
      "tensor(-81.20697, dtype=float32, fn=<NegFn>) tensor(121)\n",
      "tensor(-81.496056, dtype=float32, fn=<NegFn>) tensor(121)\n",
      "tensor(-81.775925, dtype=float32, fn=<NegFn>) tensor(121)\n",
      "tensor(-82.06031, dtype=float32, fn=<NegFn>) tensor(121)\n",
      "tensor(-82.34028, dtype=float32, fn=<NegFn>) tensor(121)\n",
      "tensor(-82.62103, dtype=float32, fn=<NegFn>) tensor(121)\n",
      "tensor(-82.91171, dtype=float32, fn=<NegFn>) tensor(121)\n",
      "tensor(-83.195045, dtype=float32, fn=<NegFn>) tensor(121)\n",
      "tensor(-83.47482, dtype=float32, fn=<NegFn>) tensor(121)\n",
      "tensor(-83.76701, dtype=float32, fn=<NegFn>) tensor(121)\n",
      "tensor(-84.03892, dtype=float32, fn=<NegFn>) tensor(121)\n",
      "tensor(-84.32533, dtype=float32, fn=<NegFn>) tensor(121)\n",
      "tensor(-84.61292, dtype=float32, fn=<NegFn>) tensor(121)\n",
      "tensor(-84.89587, dtype=float32, fn=<NegFn>) tensor(121)\n",
      "tensor(-85.18466, dtype=float32, fn=<NegFn>) tensor(121)\n",
      "tensor(-85.46049, dtype=float32, fn=<NegFn>) tensor(121)\n",
      "tensor(-85.75066, dtype=float32, fn=<NegFn>) tensor(121)\n"
     ]
    },
    {
     "name": "stdout",
     "output_type": "stream",
     "text": [
      "tensor(-86.03428, dtype=float32, fn=<NegFn>) tensor(121)\n",
      "tensor(-86.31114, dtype=float32, fn=<NegFn>) tensor(121)\n",
      "tensor(-86.60694, dtype=float32, fn=<NegFn>) tensor(121)\n",
      "tensor(-86.88814, dtype=float32, fn=<NegFn>) tensor(121)\n",
      "tensor(-87.16292, dtype=float32, fn=<NegFn>) tensor(121)\n",
      "tensor(-87.45, dtype=float32, fn=<NegFn>) tensor(121)\n",
      "tensor(-87.73128, dtype=float32, fn=<NegFn>) tensor(121)\n",
      "tensor(-88.02553, dtype=float32, fn=<NegFn>) tensor(121)\n",
      "tensor(-88.3008, dtype=float32, fn=<NegFn>) tensor(121)\n",
      "tensor(-88.58718, dtype=float32, fn=<NegFn>) tensor(121)\n",
      "tensor(-88.87278, dtype=float32, fn=<NegFn>) tensor(121)\n",
      "tensor(-89.15598, dtype=float32, fn=<NegFn>) tensor(121)\n",
      "tensor(-89.44254, dtype=float32, fn=<NegFn>) tensor(121)\n",
      "tensor(-89.71837, dtype=float32, fn=<NegFn>) tensor(121)\n",
      "tensor(-90.01094, dtype=float32, fn=<NegFn>) tensor(121)\n",
      "tensor(-90.28594, dtype=float32, fn=<NegFn>) tensor(121)\n",
      "tensor(-90.57111, dtype=float32, fn=<NegFn>) tensor(121)\n",
      "tensor(-90.86339, dtype=float32, fn=<NegFn>) tensor(121)\n",
      "tensor(-91.14283, dtype=float32, fn=<NegFn>) tensor(121)\n",
      "tensor(-91.42742, dtype=float32, fn=<NegFn>) tensor(121)\n",
      "tensor(-91.71185, dtype=float32, fn=<NegFn>) tensor(121)\n",
      "tensor(-91.98999, dtype=float32, fn=<NegFn>) tensor(121)\n",
      "tensor(-92.28526, dtype=float32, fn=<NegFn>) tensor(121)\n",
      "tensor(-92.56514, dtype=float32, fn=<NegFn>) tensor(121)\n",
      "tensor(-92.844635, dtype=float32, fn=<NegFn>) tensor(121)\n",
      "tensor(-93.12208, dtype=float32, fn=<NegFn>) tensor(121)\n",
      "tensor(-93.40049, dtype=float32, fn=<NegFn>) tensor(121)\n",
      "tensor(-93.68987, dtype=float32, fn=<NegFn>) tensor(121)\n",
      "tensor(-93.967575, dtype=float32, fn=<NegFn>) tensor(121)\n",
      "tensor(-94.25161, dtype=float32, fn=<NegFn>) tensor(121)\n",
      "tensor(-94.53832, dtype=float32, fn=<NegFn>) tensor(121)\n",
      "tensor(-94.8058, dtype=float32, fn=<NegFn>) tensor(121)\n",
      "tensor(-95.10123, dtype=float32, fn=<NegFn>) tensor(121)\n",
      "tensor(-95.38601, dtype=float32, fn=<NegFn>) tensor(121)\n",
      "tensor(-95.65594, dtype=float32, fn=<NegFn>) tensor(121)\n",
      "tensor(-95.94918, dtype=float32, fn=<NegFn>) tensor(121)\n",
      "tensor(-96.22013, dtype=float32, fn=<NegFn>) tensor(121)\n",
      "tensor(-96.4964, dtype=float32, fn=<NegFn>) tensor(121)\n",
      "tensor(-96.7897, dtype=float32, fn=<NegFn>) tensor(121)\n",
      "tensor(-97.06433, dtype=float32, fn=<NegFn>) tensor(121)\n",
      "tensor(-97.35036, dtype=float32, fn=<NegFn>) tensor(121)\n",
      "tensor(-97.63503, dtype=float32, fn=<NegFn>) tensor(121)\n",
      "tensor(-97.905556, dtype=float32, fn=<NegFn>) tensor(121)\n",
      "tensor(-98.2012, dtype=float32, fn=<NegFn>) tensor(121)\n",
      "tensor(-98.48265, dtype=float32, fn=<NegFn>) tensor(121)\n",
      "tensor(-98.761475, dtype=float32, fn=<NegFn>) tensor(121)\n",
      "tensor(-99.04439, dtype=float32, fn=<NegFn>) tensor(121)\n",
      "tensor(-99.32081, dtype=float32, fn=<NegFn>) tensor(121)\n",
      "tensor(-99.59567, dtype=float32, fn=<NegFn>) tensor(121)\n",
      "tensor(-99.88746, dtype=float32, fn=<NegFn>) tensor(121)\n",
      "tensor(-100.16742, dtype=float32, fn=<NegFn>) tensor(121)\n",
      "tensor(-100.451614, dtype=float32, fn=<NegFn>) tensor(121)\n",
      "tensor(-100.720604, dtype=float32, fn=<NegFn>) tensor(121)\n",
      "tensor(-101.01531, dtype=float32, fn=<NegFn>) tensor(121)\n",
      "tensor(-101.29501, dtype=float32, fn=<NegFn>) tensor(121)\n",
      "tensor(-101.56541, dtype=float32, fn=<NegFn>) tensor(121)\n",
      "tensor(-101.861786, dtype=float32, fn=<NegFn>) tensor(121)\n",
      "tensor(-102.13824, dtype=float32, fn=<NegFn>) tensor(121)\n",
      "tensor(-102.41503, dtype=float32, fn=<NegFn>) tensor(121)\n",
      "tensor(-102.696945, dtype=float32, fn=<NegFn>) tensor(121)\n",
      "tensor(-102.9711, dtype=float32, fn=<NegFn>) tensor(121)\n",
      "tensor(-103.260414, dtype=float32, fn=<NegFn>) tensor(121)\n",
      "tensor(-103.54026, dtype=float32, fn=<NegFn>) tensor(121)\n",
      "tensor(-103.817055, dtype=float32, fn=<NegFn>) tensor(121)\n",
      "tensor(-104.10314, dtype=float32, fn=<NegFn>) tensor(121)\n",
      "tensor(-104.377335, dtype=float32, fn=<NegFn>) tensor(121)\n",
      "tensor(-104.668106, dtype=float32, fn=<NegFn>) tensor(121)\n",
      "tensor(-104.95015, dtype=float32, fn=<NegFn>) tensor(121)\n",
      "tensor(-105.22077, dtype=float32, fn=<NegFn>) tensor(121)\n",
      "tensor(-105.50726, dtype=float32, fn=<NegFn>) tensor(121)\n",
      "tensor(-105.78971, dtype=float32, fn=<NegFn>) tensor(121)\n",
      "tensor(-106.06656, dtype=float32, fn=<NegFn>) tensor(121)\n",
      "tensor(-106.34672, dtype=float32, fn=<NegFn>) tensor(121)\n",
      "tensor(-106.6244, dtype=float32, fn=<NegFn>) tensor(121)\n",
      "tensor(-106.91149, dtype=float32, fn=<NegFn>) tensor(121)\n",
      "tensor(-107.190895, dtype=float32, fn=<NegFn>) tensor(121)\n",
      "tensor(-107.463234, dtype=float32, fn=<NegFn>) tensor(121)\n",
      "tensor(-107.76033, dtype=float32, fn=<NegFn>) tensor(121)\n",
      "tensor(-108.030266, dtype=float32, fn=<NegFn>) tensor(121)\n",
      "tensor(-108.312386, dtype=float32, fn=<NegFn>) tensor(121)\n",
      "tensor(-108.59961, dtype=float32, fn=<NegFn>) tensor(121)\n",
      "tensor(-108.87637, dtype=float32, fn=<NegFn>) tensor(121)\n",
      "tensor(-109.16146, dtype=float32, fn=<NegFn>) tensor(121)\n",
      "tensor(-109.433685, dtype=float32, fn=<NegFn>) tensor(121)\n",
      "tensor(-109.715324, dtype=float32, fn=<NegFn>) tensor(121)\n",
      "tensor(-110.00573, dtype=float32, fn=<NegFn>) tensor(121)\n",
      "tensor(-110.27647, dtype=float32, fn=<NegFn>) tensor(121)\n",
      "tensor(-110.565796, dtype=float32, fn=<NegFn>) tensor(121)\n",
      "tensor(-110.84173, dtype=float32, fn=<NegFn>) tensor(121)\n",
      "tensor(-111.12197, dtype=float32, fn=<NegFn>) tensor(121)\n",
      "tensor(-111.41046, dtype=float32, fn=<NegFn>) tensor(121)\n",
      "tensor(-111.68357, dtype=float32, fn=<NegFn>) tensor(121)\n",
      "tensor(-111.96953, dtype=float32, fn=<NegFn>) tensor(121)\n",
      "tensor(-112.256775, dtype=float32, fn=<NegFn>) tensor(121)\n",
      "tensor(-112.53379, dtype=float32, fn=<NegFn>) tensor(121)\n",
      "tensor(-112.80949, dtype=float32, fn=<NegFn>) tensor(121)\n",
      "tensor(-113.08785, dtype=float32, fn=<NegFn>) tensor(121)\n",
      "tensor(-113.36658, dtype=float32, fn=<NegFn>) tensor(121)\n",
      "tensor(-113.66035, dtype=float32, fn=<NegFn>) tensor(121)\n",
      "tensor(-113.92686, dtype=float32, fn=<NegFn>) tensor(121)\n",
      "tensor(-114.215065, dtype=float32, fn=<NegFn>) tensor(121)\n",
      "tensor(-114.49997, dtype=float32, fn=<NegFn>) tensor(121)\n",
      "tensor(-114.77208, dtype=float32, fn=<NegFn>) tensor(121)\n",
      "tensor(-115.058136, dtype=float32, fn=<NegFn>) tensor(121)\n",
      "tensor(-115.34288, dtype=float32, fn=<NegFn>) tensor(121)\n",
      "tensor(-115.62308, dtype=float32, fn=<NegFn>) tensor(121)\n",
      "tensor(-115.90765, dtype=float32, fn=<NegFn>) tensor(121)\n",
      "tensor(-116.17276, dtype=float32, fn=<NegFn>) tensor(121)\n",
      "tensor(-116.45245, dtype=float32, fn=<NegFn>) tensor(121)\n",
      "tensor(-116.74475, dtype=float32, fn=<NegFn>) tensor(121)\n",
      "tensor(-117.02303, dtype=float32, fn=<NegFn>) tensor(121)\n",
      "tensor(-117.303894, dtype=float32, fn=<NegFn>) tensor(121)\n",
      "tensor(-117.58224, dtype=float32, fn=<NegFn>) tensor(121)\n",
      "tensor(-117.871216, dtype=float32, fn=<NegFn>) tensor(121)\n",
      "tensor(-118.15436, dtype=float32, fn=<NegFn>) tensor(121)\n",
      "tensor(-118.41663, dtype=float32, fn=<NegFn>) tensor(121)\n",
      "tensor(-118.71502, dtype=float32, fn=<NegFn>) tensor(121)\n",
      "tensor(-118.989525, dtype=float32, fn=<NegFn>) tensor(121)\n",
      "tensor(-119.27263, dtype=float32, fn=<NegFn>) tensor(121)\n",
      "tensor(-119.55098, dtype=float32, fn=<NegFn>) tensor(121)\n",
      "tensor(-119.827705, dtype=float32, fn=<NegFn>) tensor(121)\n",
      "tensor(-120.110916, dtype=float32, fn=<NegFn>) tensor(121)\n",
      "tensor(-120.39896, dtype=float32, fn=<NegFn>) tensor(121)\n",
      "tensor(-120.66558, dtype=float32, fn=<NegFn>) tensor(121)\n",
      "tensor(-120.96299, dtype=float32, fn=<NegFn>) tensor(121)\n",
      "tensor(-121.23893, dtype=float32, fn=<NegFn>) tensor(121)\n",
      "tensor(-121.52016, dtype=float32, fn=<NegFn>) tensor(121)\n",
      "tensor(-121.804955, dtype=float32, fn=<NegFn>) tensor(121)\n",
      "tensor(-122.07684, dtype=float32, fn=<NegFn>) tensor(121)\n",
      "tensor(-122.36124, dtype=float32, fn=<NegFn>) tensor(121)\n",
      "tensor(-122.6469, dtype=float32, fn=<NegFn>) tensor(121)\n",
      "tensor(-122.92043, dtype=float32, fn=<NegFn>) tensor(121)\n",
      "tensor(-123.2063, dtype=float32, fn=<NegFn>) tensor(121)\n",
      "tensor(-123.48141, dtype=float32, fn=<NegFn>) tensor(121)\n",
      "tensor(-123.76219, dtype=float32, fn=<NegFn>) tensor(121)\n",
      "tensor(-124.05016, dtype=float32, fn=<NegFn>) tensor(121)\n",
      "tensor(-124.321976, dtype=float32, fn=<NegFn>) tensor(121)\n",
      "tensor(-124.61019, dtype=float32, fn=<NegFn>) tensor(121)\n",
      "tensor(-124.88754, dtype=float32, fn=<NegFn>) tensor(121)\n",
      "tensor(-125.16476, dtype=float32, fn=<NegFn>) tensor(121)\n",
      "tensor(-125.45799, dtype=float32, fn=<NegFn>) tensor(121)\n",
      "tensor(-125.73895, dtype=float32, fn=<NegFn>) tensor(121)\n",
      "tensor(-126.01749, dtype=float32, fn=<NegFn>) tensor(121)\n",
      "tensor(-126.30004, dtype=float32, fn=<NegFn>) tensor(121)\n",
      "tensor(-126.573166, dtype=float32, fn=<NegFn>) tensor(121)\n",
      "tensor(-126.85177, dtype=float32, fn=<NegFn>) tensor(121)\n",
      "tensor(-127.1351, dtype=float32, fn=<NegFn>) tensor(121)\n",
      "tensor(-127.42113, dtype=float32, fn=<NegFn>) tensor(121)\n",
      "tensor(-127.70079, dtype=float32, fn=<NegFn>) tensor(121)\n",
      "tensor(-127.9782, dtype=float32, fn=<NegFn>) tensor(121)\n",
      "tensor(-128.2653, dtype=float32, fn=<NegFn>) tensor(121)\n",
      "tensor(-128.5431, dtype=float32, fn=<NegFn>) tensor(121)\n",
      "tensor(-128.82231, dtype=float32, fn=<NegFn>) tensor(121)\n",
      "tensor(-129.11021, dtype=float32, fn=<NegFn>) tensor(121)\n",
      "tensor(-129.39049, dtype=float32, fn=<NegFn>) tensor(121)\n",
      "tensor(-129.66562, dtype=float32, fn=<NegFn>) tensor(121)\n",
      "tensor(-129.9466, dtype=float32, fn=<NegFn>) tensor(121)\n",
      "tensor(-130.22972, dtype=float32, fn=<NegFn>) tensor(121)\n",
      "tensor(-130.51181, dtype=float32, fn=<NegFn>) tensor(121)\n",
      "tensor(-130.78, dtype=float32, fn=<NegFn>) tensor(121)\n",
      "tensor(-131.06703, dtype=float32, fn=<NegFn>) tensor(121)\n",
      "tensor(-131.35776, dtype=float32, fn=<NegFn>) tensor(121)\n",
      "tensor(-131.6252, dtype=float32, fn=<NegFn>) tensor(121)\n",
      "tensor(-131.91585, dtype=float32, fn=<NegFn>) tensor(121)\n",
      "tensor(-132.2016, dtype=float32, fn=<NegFn>) tensor(121)\n",
      "tensor(-132.47693, dtype=float32, fn=<NegFn>) tensor(121)\n",
      "tensor(-132.75923, dtype=float32, fn=<NegFn>) tensor(121)\n",
      "tensor(-133.03918, dtype=float32, fn=<NegFn>) tensor(121)\n",
      "tensor(-133.30832, dtype=float32, fn=<NegFn>) tensor(121)\n",
      "tensor(-133.60216, dtype=float32, fn=<NegFn>) tensor(121)\n",
      "tensor(-133.87556, dtype=float32, fn=<NegFn>) tensor(121)\n",
      "tensor(-134.15903, dtype=float32, fn=<NegFn>) tensor(121)\n",
      "tensor(-134.43976, dtype=float32, fn=<NegFn>) tensor(121)\n",
      "tensor(-134.7174, dtype=float32, fn=<NegFn>) tensor(121)\n",
      "tensor(-135.00609, dtype=float32, fn=<NegFn>) tensor(121)\n",
      "tensor(-135.2807, dtype=float32, fn=<NegFn>) tensor(121)\n",
      "tensor(-135.56725, dtype=float32, fn=<NegFn>) tensor(121)\n",
      "tensor(-135.8481, dtype=float32, fn=<NegFn>) tensor(121)\n",
      "tensor(-136.12427, dtype=float32, fn=<NegFn>) tensor(121)\n",
      "tensor(-136.41167, dtype=float32, fn=<NegFn>) tensor(121)\n",
      "tensor(-136.69391, dtype=float32, fn=<NegFn>) tensor(121)\n",
      "tensor(-136.97006, dtype=float32, fn=<NegFn>) tensor(121)\n",
      "tensor(-137.25014, dtype=float32, fn=<NegFn>) tensor(121)\n",
      "tensor(-137.5272, dtype=float32, fn=<NegFn>) tensor(121)\n",
      "tensor(-137.81847, dtype=float32, fn=<NegFn>) tensor(121)\n",
      "tensor(-138.09753, dtype=float32, fn=<NegFn>) tensor(121)\n",
      "tensor(-138.37636, dtype=float32, fn=<NegFn>) tensor(121)\n",
      "tensor(-138.65784, dtype=float32, fn=<NegFn>) tensor(121)\n",
      "tensor(-138.93063, dtype=float32, fn=<NegFn>) tensor(121)\n",
      "tensor(-139.2232, dtype=float32, fn=<NegFn>) tensor(121)\n",
      "tensor(-139.50311, dtype=float32, fn=<NegFn>) tensor(121)\n",
      "tensor(-139.77399, dtype=float32, fn=<NegFn>) tensor(121)\n",
      "tensor(-140.06584, dtype=float32, fn=<NegFn>) tensor(121)\n",
      "tensor(-140.33559, dtype=float32, fn=<NegFn>) tensor(121)\n",
      "tensor(-140.61597, dtype=float32, fn=<NegFn>) tensor(121)\n",
      "tensor(-140.90591, dtype=float32, fn=<NegFn>) tensor(121)\n",
      "tensor(-141.1811, dtype=float32, fn=<NegFn>) tensor(121)\n",
      "tensor(-141.4625, dtype=float32, fn=<NegFn>) tensor(121)\n",
      "tensor(-141.7491, dtype=float32, fn=<NegFn>) tensor(121)\n",
      "tensor(-142.02208, dtype=float32, fn=<NegFn>) tensor(121)\n",
      "tensor(-142.31467, dtype=float32, fn=<NegFn>) tensor(121)\n",
      "tensor(-142.5869, dtype=float32, fn=<NegFn>) tensor(121)\n",
      "tensor(-142.87227, dtype=float32, fn=<NegFn>) tensor(121)\n",
      "tensor(-143.1577, dtype=float32, fn=<NegFn>) tensor(121)\n",
      "tensor(-143.42863, dtype=float32, fn=<NegFn>) tensor(121)\n",
      "tensor(-143.70712, dtype=float32, fn=<NegFn>) tensor(121)\n",
      "tensor(-143.99603, dtype=float32, fn=<NegFn>) tensor(121)\n",
      "tensor(-144.27335, dtype=float32, fn=<NegFn>) tensor(121)\n",
      "tensor(-144.55461, dtype=float32, fn=<NegFn>) tensor(121)\n",
      "tensor(-144.83319, dtype=float32, fn=<NegFn>) tensor(121)\n",
      "tensor(-145.11966, dtype=float32, fn=<NegFn>) tensor(121)\n",
      "tensor(-145.40236, dtype=float32, fn=<NegFn>) tensor(121)\n",
      "tensor(-145.6813, dtype=float32, fn=<NegFn>) tensor(121)\n",
      "tensor(-145.96613, dtype=float32, fn=<NegFn>) tensor(121)\n",
      "tensor(-146.24104, dtype=float32, fn=<NegFn>) tensor(121)\n",
      "tensor(-146.51724, dtype=float32, fn=<NegFn>) tensor(121)\n",
      "tensor(-146.80565, dtype=float32, fn=<NegFn>) tensor(121)\n",
      "tensor(-147.07362, dtype=float32, fn=<NegFn>) tensor(121)\n",
      "tensor(-147.36581, dtype=float32, fn=<NegFn>) tensor(121)\n",
      "tensor(-147.64426, dtype=float32, fn=<NegFn>) tensor(121)\n",
      "tensor(-147.92317, dtype=float32, fn=<NegFn>) tensor(121)\n",
      "tensor(-148.21254, dtype=float32, fn=<NegFn>) tensor(121)\n",
      "tensor(-148.48311, dtype=float32, fn=<NegFn>) tensor(121)\n",
      "tensor(-148.77031, dtype=float32, fn=<NegFn>) tensor(121)\n",
      "tensor(-149.0482, dtype=float32, fn=<NegFn>) tensor(121)\n",
      "tensor(-149.33255, dtype=float32, fn=<NegFn>) tensor(121)\n",
      "tensor(-149.61629, dtype=float32, fn=<NegFn>) tensor(121)\n",
      "tensor(-149.8911, dtype=float32, fn=<NegFn>) tensor(121)\n",
      "tensor(-150.17139, dtype=float32, fn=<NegFn>) tensor(121)\n",
      "tensor(-150.45355, dtype=float32, fn=<NegFn>) tensor(121)\n",
      "tensor(-150.7326, dtype=float32, fn=<NegFn>) tensor(121)\n",
      "tensor(-151.01978, dtype=float32, fn=<NegFn>) tensor(121)\n",
      "tensor(-151.29953, dtype=float32, fn=<NegFn>) tensor(121)\n",
      "tensor(-151.58194, dtype=float32, fn=<NegFn>) tensor(121)\n",
      "tensor(-151.86475, dtype=float32, fn=<NegFn>) tensor(121)\n",
      "tensor(-152.13867, dtype=float32, fn=<NegFn>) tensor(121)\n",
      "tensor(-152.41681, dtype=float32, fn=<NegFn>) tensor(121)\n",
      "tensor(-152.7079, dtype=float32, fn=<NegFn>) tensor(121)\n",
      "tensor(-152.98227, dtype=float32, fn=<NegFn>) tensor(121)\n",
      "tensor(-153.27086, dtype=float32, fn=<NegFn>) tensor(121)\n",
      "tensor(-153.55098, dtype=float32, fn=<NegFn>) tensor(121)\n",
      "tensor(-153.82259, dtype=float32, fn=<NegFn>) tensor(121)\n",
      "tensor(-154.10931, dtype=float32, fn=<NegFn>) tensor(121)\n",
      "tensor(-154.3831, dtype=float32, fn=<NegFn>) tensor(121)\n",
      "tensor(-154.67024, dtype=float32, fn=<NegFn>) tensor(121)\n",
      "tensor(-154.95589, dtype=float32, fn=<NegFn>) tensor(121)\n",
      "tensor(-155.23418, dtype=float32, fn=<NegFn>) tensor(121)\n",
      "tensor(-155.51292, dtype=float32, fn=<NegFn>) tensor(121)\n",
      "tensor(-155.78378, dtype=float32, fn=<NegFn>) tensor(121)\n",
      "tensor(-156.07709, dtype=float32, fn=<NegFn>) tensor(121)\n",
      "tensor(-156.35863, dtype=float32, fn=<NegFn>) tensor(121)\n",
      "tensor(-156.63814, dtype=float32, fn=<NegFn>) tensor(121)\n",
      "tensor(-156.91747, dtype=float32, fn=<NegFn>) tensor(121)\n",
      "tensor(-157.19087, dtype=float32, fn=<NegFn>) tensor(121)\n",
      "tensor(-157.47032, dtype=float32, fn=<NegFn>) tensor(121)\n"
     ]
    },
    {
     "name": "stdout",
     "output_type": "stream",
     "text": [
      "tensor(-157.76459, dtype=float32, fn=<NegFn>) tensor(121)\n",
      "tensor(-158.03528, dtype=float32, fn=<NegFn>) tensor(121)\n",
      "tensor(-158.32248, dtype=float32, fn=<NegFn>) tensor(121)\n",
      "tensor(-158.59814, dtype=float32, fn=<NegFn>) tensor(121)\n",
      "tensor(-158.8823, dtype=float32, fn=<NegFn>) tensor(121)\n",
      "tensor([ 0,  0,  0,  0, 80,  0,  0,  1,  0,  0])\n",
      "tensor([ 0,  0,  0,  0, 80,  0,  0,  1,  0,  0])\n"
     ]
    },
    {
     "data": {
      "text/plain": [
       "<matplotlib.image.AxesImage at 0x7f2d2e8e3750>"
      ]
     },
     "execution_count": 354,
     "metadata": {},
     "output_type": "execute_result"
    },
    {
     "data": {
      "image/png": "[encoded data removed]",
      "text/plain": [
       "<Figure size 504x360 with 3 Axes>"
      ]
     },
     "metadata": {
      "needs_background": "light"
     },
     "output_type": "display_data"
    }
   ],
   "source": [
    "fi=0\n",
    "fx,fy=4,5\n",
    "# mytorch.manual_seed(1)\n",
    "m1=mytorch.Seq(*m[:5]).do_grad_(False);print(m1)\n",
    "a=0.\n",
    "while a==0.:\n",
    "#     x1=mytorch.randn(1,784,do_grad=True)\n",
    "#     x1=mytorch.normal(0,0.02,(1,784),do_grad=True)\n",
    "    x1=mytorch.tensor(tr[0][None,20681],do_grad=True)\n",
    "#     x1=mytorch.zeros((1,784),do_grad=True)\n",
    "#     x1=mytorch.ones((1,784),do_grad=True)\n",
    "    a=m1(x1)[0,fi,fx,fy]\n",
    "x1_0=x1.clone().detach_()\n",
    "lr1=.1\n",
    "n_ep1=500\n",
    "opt1=mytorch.SGD([x1],lr1)#,l2_decay=0.01)\n",
    "for _ in range(n_ep1):\n",
    "    a=-m1(x1)[0,fi,fx,fy]\n",
    "    print(a,end=' ')\n",
    "    a.backward()\n",
    "    print((x1.grad!=0.).sum())\n",
    "    opt1.step()\n",
    "#     plt.imshow(x1.reshape((28,28))[:7,:7].v,cmap='gray')\n",
    "#     plt.show()\n",
    "n=9\n",
    "xa0=x1_0.reshape((28,28))[:n,:n]\n",
    "xa=x1.reshape((28,28))[:n,:n]\n",
    "print(xa0.histc(min=-3,max=3))\n",
    "print(xa.histc(min=-3,max=3))\n",
    "_,ax=plt.subplots(1,3,figsize=(7,5))\n",
    "ax[0].imshow(xa0,cmap='gray')\n",
    "ax[1].imshow(xa,cmap='gray')\n",
    "ax[2].imshow(x1.reshape((28,28)),cmap='gray',vmin=-4,vmax=4)"
   ]
  },
  {
   "cell_type": "code",
   "execution_count": 341,
   "metadata": {},
   "outputs": [
    {
     "data": {
      "text/plain": [
       "(tensor(16.360958, dtype=float32), tensor([42867, 14073, 49268, 20681,  3518]))"
      ]
     },
     "execution_count": 341,
     "metadata": {},
     "output_type": "execute_result"
    }
   ],
   "source": [
    "y1=m1(mytorch.tensor(tr[0][:]))[:,fi]\n",
    "y1.max(),y1.argsort(axis=None)[-5:]//49"
   ]
  },
  {
   "cell_type": "code",
   "execution_count": 352,
   "metadata": {},
   "outputs": [
    {
     "data": {
      "text/plain": [
       "tensor(16.19105, dtype=float32)"
      ]
     },
     "execution_count": 352,
     "metadata": {},
     "output_type": "execute_result"
    }
   ],
   "source": [
    "y1[20681][4,5]"
   ]
  },
  {
   "cell_type": "code",
   "execution_count": 349,
   "metadata": {},
   "outputs": [
    {
     "data": {
      "text/plain": [
       "<matplotlib.image.AxesImage at 0x7f2d22e48d50>"
      ]
     },
     "execution_count": 349,
     "metadata": {},
     "output_type": "execute_result"
    },
    {
     "data": {
      "image/png": "[encoded data removed]",
      "text/plain": [
       "<Figure size 432x288 with 1 Axes>"
      ]
     },
     "metadata": {
      "needs_background": "light"
     },
     "output_type": "display_data"
    }
   ],
   "source": [
    "plt.imshow(tr[0][20681].reshape((28,28)),cmap='gray')"
   ]
  },
  {
   "cell_type": "code",
   "execution_count": 228,
   "metadata": {},
   "outputs": [
    {
     "data": {
      "text/plain": [
       "<matplotlib.image.AxesImage at 0x7f2d24331750>"
      ]
     },
     "execution_count": 228,
     "metadata": {},
     "output_type": "execute_result"
    },
    {
     "data": {
      "image/png": "[encoded data removed]",
      "text/plain": [
       "<Figure size 432x288 with 1 Axes>"
      ]
     },
     "metadata": {
      "needs_background": "light"
     },
     "output_type": "display_data"
    }
   ],
   "source": [
    "plt.imshow(tr[0][12429].reshape((28,28))[17:25,12:21],cmap='gray')"
   ]
  },
  {
   "cell_type": "code",
   "execution_count": 180,
   "metadata": {},
   "outputs": [
    {
     "data": {
      "text/plain": [
       "<matplotlib.image.AxesImage at 0x7f2d2662c4d0>"
      ]
     },
     "execution_count": 180,
     "metadata": {},
     "output_type": "execute_result"
    },
    {
     "data": {
      "image/png": "[encoded data removed]",
      "text/plain": [
       "<Figure size 432x288 with 1 Axes>"
      ]
     },
     "metadata": {
      "needs_background": "light"
     },
     "output_type": "display_data"
    }
   ],
   "source": [
    "plt.imshow(tr[0][25747].reshape((28,28)),cmap='gray')\n",
    "plt.imshow(x1.reshape((28,28)),alpha=.5,cmap='viridis',vmin=-1.,vmax=1.)"
   ]
  }
 ],
 "metadata": {
  "kernelspec": {
   "display_name": "Python 3",
   "language": "python",
   "name": "python3"
  },
  "language_info": {
   "codemirror_mode": {
    "name": "ipython",
    "version": 3
   },
   "file_extension": ".py",
   "mimetype": "text/x-python",
   "name": "python",
   "nbconvert_exporter": "python",
   "pygments_lexer": "ipython3",
   "version": "3.7.6"
  }
 },
 "nbformat": 4,
 "nbformat_minor": 4
}
