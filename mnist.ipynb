{
 "cells": [
  {
   "cell_type": "code",
   "execution_count": 1,
   "metadata": {},
   "outputs": [],
   "source": [
    "%reload_ext autoreload\n",
    "%autoreload 2"
   ]
  },
  {
   "cell_type": "code",
   "execution_count": 2,
   "metadata": {},
   "outputs": [],
   "source": [
    "import gzip,pickle\n",
    "import mytorch\n",
    "import myai\n",
    "import numpy as np\n",
    "import matplotlib.pyplot as plt\n",
    "from time import time"
   ]
  },
  {
   "cell_type": "code",
   "execution_count": 3,
   "metadata": {},
   "outputs": [],
   "source": [
    "tr,va,te=pickle.load(gzip.open('data/mnist.pkl.gz'),encoding='latin1')"
   ]
  },
  {
   "cell_type": "code",
   "execution_count": 4,
   "metadata": {},
   "outputs": [
    {
     "data": {
      "text/plain": [
       "(0.0, 0.99609375, 0.13044983, 0.3072898)"
      ]
     },
     "execution_count": 4,
     "metadata": {},
     "output_type": "execute_result"
    }
   ],
   "source": [
    "def normalize(x,mean,std): return (x-mean)/std\n",
    "tr_mean,tr_std=tr[0].mean(),tr[0].std()\n",
    "def denorm(x): return x*tr_std+tr_mean\n",
    "tr[0].min(),tr[0].max(),tr_mean,tr_std"
   ]
  },
  {
   "cell_type": "code",
   "execution_count": 5,
   "metadata": {},
   "outputs": [
    {
     "data": {
      "text/plain": [
       "(-3.1638146e-07, 0.99999934, -0.005850922, 0.99243325, 0.005034822, 1.0064359)"
      ]
     },
     "execution_count": 5,
     "metadata": {},
     "output_type": "execute_result"
    }
   ],
   "source": [
    "tr=(normalize(tr[0],tr_mean,tr_std),tr[1])\n",
    "va=(normalize(va[0],tr_mean,tr_std),va[1])\n",
    "te=(normalize(te[0],tr_mean,tr_std),te[1])\n",
    "tr[0].mean(),tr[0].std(),va[0].mean(),va[0].std(),te[0].mean(),te[0].std()"
   ]
  },
  {
   "cell_type": "code",
   "execution_count": 6,
   "metadata": {},
   "outputs": [
    {
     "data": {
      "text/plain": [
       "(0.0, 0.99609375, -0.42451727, 2.8170278)"
      ]
     },
     "execution_count": 6,
     "metadata": {},
     "output_type": "execute_result"
    }
   ],
   "source": [
    "denorm(tr[0]).min(),denorm(tr[0]).max(),tr[0].min(),tr[0].max()"
   ]
  },
  {
   "cell_type": "code",
   "execution_count": 7,
   "metadata": {},
   "outputs": [
    {
     "data": {
      "text/plain": [
       "(784, 10)"
      ]
     },
     "execution_count": 7,
     "metadata": {},
     "output_type": "execute_result"
    }
   ],
   "source": [
    "n_in=te[0].shape[1]\n",
    "n_out=te[1].max()+1\n",
    "n_in,n_out"
   ]
  },
  {
   "cell_type": "code",
   "execution_count": 8,
   "metadata": {},
   "outputs": [],
   "source": [
    "class Resize(mytorch.Module):\n",
    "    def forward(self,x): return x.reshape((-1,1,28,28))\n",
    "class Flatten(mytorch.Module):\n",
    "    def forward(self,x): return x.reshape((len(x),-1))\n",
    "\n",
    "def getm():\n",
    "    return mytorch.Seq(\n",
    "        Resize() # 784 -> 1x28x28\n",
    "        ,mytorch.Conv2d(1,8,5,padding=2,stride=2),mytorch.ReLU() #14\n",
    "        ,mytorch.Conv2d(8,16,3,padding=1,stride=2),mytorch.ReLU() #7\n",
    "        ,mytorch.Conv2d(16,32,3,padding=1,stride=2),mytorch.ReLU() #4\n",
    "        ,Flatten()\n",
    "        ,mytorch.Linear(32*4*4,n_out)\n",
    "    )"
   ]
  },
  {
   "cell_type": "code",
   "execution_count": 59,
   "metadata": {},
   "outputs": [
    {
     "data": {
      "text/plain": [
       "'cuda'"
      ]
     },
     "execution_count": 59,
     "metadata": {},
     "output_type": "execute_result"
    }
   ],
   "source": [
    "dev='cpu'\n",
    "if mytorch.cuda_is_available(): dev='cuda'\n",
    "dev"
   ]
  },
  {
   "cell_type": "code",
   "execution_count": 92,
   "metadata": {},
   "outputs": [],
   "source": [
    "class TimeCallback:\n",
    "    def before_fit(self): self.t0=time()\n",
    "    def after_fit(self): print('total time %.2fs' % (time()-self.t0,))\n",
    "        \n",
    "class StatsCallback:\n",
    "    def __init__(self):\n",
    "        self.tr_losses,self.val_losses,self.accs=[],[],[]\n",
    "    def before_epoch(self):\n",
    "        self.tr_loss,self.val_loss,self.acc=0,0,0\n",
    "        self.tr_cnt,self.val_cnt=0,0\n",
    "    def after_loss(self):\n",
    "        cnt=len(self.learn.xb)\n",
    "        if self.learn.training:\n",
    "            self.tr_loss+=self.learn.loss.detach()*cnt\n",
    "            self.tr_cnt+=cnt\n",
    "        else:\n",
    "            self.acc+=(self.learn.preds.argmax(axis=1)==self.learn.yb).sum()\n",
    "            self.val_loss+=self.learn.loss*cnt\n",
    "            self.val_cnt+=cnt\n",
    "    def after_epoch(self):\n",
    "        self.tr_losses.append(self.tr_loss.item()/self.tr_cnt)\n",
    "        self.val_losses.append(self.val_loss.item()/self.val_cnt)\n",
    "        self.accs.append(self.acc.item()/self.val_cnt)\n",
    "        print('%3d. train loss %.4f | valid loss %.4f | accuracy %.4f' %\n",
    "              (self.learn.epoch,self.tr_losses[-1],self.val_losses[-1],self.accs[-1]))"
   ]
  },
  {
   "cell_type": "code",
   "execution_count": 104,
   "metadata": {},
   "outputs": [],
   "source": [
    "batch_size=100\n",
    "lr=.1\n",
    "\n",
    "def getdl(x,y,shuffle=False,first_n=None):\n",
    "    if first_n: x,y=x[:first_n],y[:first_n]\n",
    "    x,y=map(lambda x:mytorch.tensor(x,device=dev),[x,y])\n",
    "    ds=mytorch.TensorDataset(x,y)\n",
    "    return mytorch.DataLoader(ds,bs=batch_size,shuffle=shuffle)\n",
    "\n",
    "trdl=getdl(*tr,shuffle=True)\n",
    "valdl=getdl(*va)\n",
    "m=getm().to(dtype=mytorch.float32,device=dev)\n",
    "opt=mytorch.SGD(m.params(),lr,set_to_none=True)\n",
    "stats=StatsCallback()\n",
    "lrn=myai.Learner(trdl,m,opt,mytorch.cross_entropy,valdl=valdl,\n",
    "            cbs=[TimeCallback(),stats])"
   ]
  },
  {
   "cell_type": "code",
   "execution_count": 105,
   "metadata": {},
   "outputs": [
    {
     "name": "stdout",
     "output_type": "stream",
     "text": [
      "  0. train loss 0.2715 | valid loss 0.1400 | accuracy 0.9566\n",
      "  1. train loss 0.1040 | valid loss 0.0917 | accuracy 0.9739\n",
      "  2. train loss 0.0761 | valid loss 0.0784 | accuracy 0.9765\n",
      "  3. train loss 0.0623 | valid loss 0.0713 | accuracy 0.9810\n",
      "  4. train loss 0.0528 | valid loss 0.0723 | accuracy 0.9792\n",
      "  5. train loss 0.0469 | valid loss 0.0589 | accuracy 0.9838\n",
      "  6. train loss 0.0412 | valid loss 0.0605 | accuracy 0.9834\n",
      "  7. train loss 0.0381 | valid loss 0.0617 | accuracy 0.9838\n",
      "  8. train loss 0.0337 | valid loss 0.0588 | accuracy 0.9844\n",
      "  9. train loss 0.0303 | valid loss 0.0705 | accuracy 0.9805\n",
      " 10. train loss 0.0279 | valid loss 0.0616 | accuracy 0.9838\n",
      " 11. train loss 0.0257 | valid loss 0.0557 | accuracy 0.9849\n",
      " 12. train loss 0.0232 | valid loss 0.0616 | accuracy 0.9840\n",
      " 13. train loss 0.0204 | valid loss 0.0746 | accuracy 0.9825\n",
      " 14. train loss 0.0190 | valid loss 0.0624 | accuracy 0.9846\n",
      " 15. train loss 0.0174 | valid loss 0.0626 | accuracy 0.9850\n",
      " 16. train loss 0.0178 | valid loss 0.0587 | accuracy 0.9854\n",
      " 17. train loss 0.0151 | valid loss 0.0666 | accuracy 0.9838\n",
      " 18. train loss 0.0115 | valid loss 0.0647 | accuracy 0.9855\n",
      " 19. train loss 0.0120 | valid loss 0.0669 | accuracy 0.9847\n",
      " 20. train loss 0.0123 | valid loss 0.0696 | accuracy 0.9838\n",
      " 21. train loss 0.0089 | valid loss 0.0711 | accuracy 0.9846\n",
      " 22. train loss 0.0096 | valid loss 0.0759 | accuracy 0.9842\n",
      " 23. train loss 0.0091 | valid loss 0.0763 | accuracy 0.9833\n",
      " 24. train loss 0.0074 | valid loss 0.0705 | accuracy 0.9859\n",
      " 25. train loss 0.0063 | valid loss 0.0789 | accuracy 0.9846\n",
      " 26. train loss 0.0054 | valid loss 0.0720 | accuracy 0.9865\n",
      " 27. train loss 0.0043 | valid loss 0.0881 | accuracy 0.9841\n",
      " 28. train loss 0.0079 | valid loss 0.0842 | accuracy 0.9854\n",
      " 29. train loss 0.0068 | valid loss 0.0816 | accuracy 0.9850\n",
      " 30. train loss 0.0033 | valid loss 0.0785 | accuracy 0.9848\n",
      " 31. train loss 0.0022 | valid loss 0.0852 | accuracy 0.9836\n",
      " 32. train loss 0.0014 | valid loss 0.0821 | accuracy 0.9852\n",
      " 33. train loss 0.0008 | valid loss 0.0819 | accuracy 0.9861\n",
      " 34. train loss 0.0006 | valid loss 0.0835 | accuracy 0.9860\n",
      " 35. train loss 0.0005 | valid loss 0.0841 | accuracy 0.9856\n",
      " 36. train loss 0.0004 | valid loss 0.0854 | accuracy 0.9860\n",
      " 37. train loss 0.0003 | valid loss 0.0871 | accuracy 0.9859\n",
      " 38. train loss 0.0003 | valid loss 0.0872 | accuracy 0.9858\n",
      " 39. train loss 0.0003 | valid loss 0.0879 | accuracy 0.9861\n",
      " 40. train loss 0.0003 | valid loss 0.0895 | accuracy 0.9858\n",
      " 41. train loss 0.0003 | valid loss 0.0889 | accuracy 0.9858\n",
      " 42. train loss 0.0002 | valid loss 0.0901 | accuracy 0.9857\n",
      " 43. train loss 0.0002 | valid loss 0.0915 | accuracy 0.9858\n",
      " 44. train loss 0.0002 | valid loss 0.0909 | accuracy 0.9858\n",
      " 45. train loss 0.0002 | valid loss 0.0918 | accuracy 0.9857\n",
      " 46. train loss 0.0002 | valid loss 0.0928 | accuracy 0.9857\n",
      " 47. train loss 0.0002 | valid loss 0.0931 | accuracy 0.9859\n",
      " 48. train loss 0.0002 | valid loss 0.0932 | accuracy 0.9854\n",
      " 49. train loss 0.0002 | valid loss 0.0939 | accuracy 0.9856\n",
      "total time 119.58s\n"
     ]
    }
   ],
   "source": [
    "lrn.fit(50)"
   ]
  },
  {
   "cell_type": "code",
   "execution_count": 106,
   "metadata": {},
   "outputs": [
    {
     "data": {
      "image/png": "[encoded data removed]",
      "text/plain": [
       "<Figure size 432x288 with 1 Axes>"
      ]
     },
     "metadata": {
      "needs_background": "light"
     },
     "output_type": "display_data"
    },
    {
     "data": {
      "text/plain": [
       "[<matplotlib.lines.Line2D at 0x7f2c355fed90>]"
      ]
     },
     "execution_count": 106,
     "metadata": {},
     "output_type": "execute_result"
    },
    {
     "data": {
      "image/png": "[encoded data removed]",
      "text/plain": [
       "<Figure size 432x288 with 1 Axes>"
      ]
     },
     "metadata": {
      "needs_background": "light"
     },
     "output_type": "display_data"
    }
   ],
   "source": [
    "plt.plot(stats.tr_losses)\n",
    "plt.plot(stats.val_losses)\n",
    "plt.show()\n",
    "plt.plot(stats.accs)"
   ]
  },
  {
   "cell_type": "code",
   "execution_count": null,
   "metadata": {},
   "outputs": [],
   "source": []
  },
  {
   "cell_type": "code",
   "execution_count": null,
   "metadata": {},
   "outputs": [],
   "source": []
  },
  {
   "cell_type": "code",
   "execution_count": null,
   "metadata": {},
   "outputs": [],
   "source": []
  },
  {
   "cell_type": "code",
   "execution_count": null,
   "metadata": {},
   "outputs": [],
   "source": []
  },
  {
   "cell_type": "code",
   "execution_count": 39,
   "metadata": {},
   "outputs": [],
   "source": [
    "import torch\n",
    "import torch.nn as nn\n",
    "import torch.nn.functional as F\n",
    "import torch.optim as optim\n",
    "from torch.utils.data import DataLoader,TensorDataset"
   ]
  },
  {
   "cell_type": "code",
   "execution_count": 41,
   "metadata": {},
   "outputs": [
    {
     "name": "stdout",
     "output_type": "stream",
     "text": [
      "train loss 0.5143283933699131\n",
      "0.9621 0.1388060618750751\n",
      "train loss 0.12304508703574538\n",
      "0.9679 0.11211160973645747\n",
      "train loss 0.0891373685207218\n",
      "0.978 0.07642323927721009\n",
      "9.099228382110596 s\n"
     ]
    }
   ],
   "source": [
    "class Resize(nn.Module):\n",
    "    def forward(self,x): return x.reshape((-1,1,28,28))\n",
    "class Flatten(nn.Module):\n",
    "    def forward(self,x): return x.reshape((len(x),-1))\n",
    "def getm():\n",
    "    return nn.Sequential(\n",
    "        Resize() # 784 -> 1x28x28\n",
    "        ,nn.Conv2d(1,8,5,padding=2,stride=2),nn.ReLU() #14\n",
    "        ,nn.Conv2d(8,16,3,padding=1,stride=2),nn.ReLU() #7\n",
    "        ,nn.Conv2d(16,32,3,padding=1,stride=2),nn.ReLU() #4\n",
    "        ,Flatten()\n",
    "        ,nn.Linear(32*4*4,n_out)\n",
    "    )\n",
    "\n",
    "def getdl(x,y,shuffle=False,first_n=None):\n",
    "    if first_n: x,y=x[:first_n],y[:first_n]\n",
    "    x,y=map(lambda x:torch.tensor(x,device=dev),[x,y])\n",
    "    ds=TensorDataset(x,y)\n",
    "    return DataLoader(ds,batch_size=batch_size,shuffle=shuffle)\n",
    "\n",
    "trdl=getdl(*tr,shuffle=True)\n",
    "valdl=getdl(*va)\n",
    "m=getm().to(device=dev)\n",
    "opt=optim.SGD(m.parameters(),lr)\n",
    "t0=time()\n",
    "for ep in range(n_ep):\n",
    "    totloss=0.\n",
    "    for xb,yb in trdl:\n",
    "        loss=F.cross_entropy(m(xb),yb)\n",
    "        totloss+=loss.item()*len(xb)\n",
    "        loss.backward()\n",
    "        opt.step()\n",
    "        opt.zero_grad()\n",
    "    print('train loss',totloss/len(tr[0]))\n",
    "\n",
    "    with torch.no_grad():\n",
    "        loss=0.\n",
    "        acc=0.\n",
    "        for xb,yb in valdl:\n",
    "            yhat=m(xb)\n",
    "            acc+=(yhat.argmax(axis=1)==yb).sum().item()\n",
    "            loss+=F.cross_entropy(yhat,yb).item()*len(xb)\n",
    "        print(acc/len(va[0]),loss/len(va[0]))\n",
    "print(time()-t0,'s')"
   ]
  },
  {
   "cell_type": "code",
   "execution_count": null,
   "metadata": {},
   "outputs": [],
   "source": []
  }
 ],
 "metadata": {
  "kernelspec": {
   "display_name": "Python 3",
   "language": "python",
   "name": "python3"
  },
  "language_info": {
   "codemirror_mode": {
    "name": "ipython",
    "version": 3
   },
   "file_extension": ".py",
   "mimetype": "text/x-python",
   "name": "python",
   "nbconvert_exporter": "python",
   "pygments_lexer": "ipython3",
   "version": "3.7.6"
  }
 },
 "nbformat": 4,
 "nbformat_minor": 4
}
