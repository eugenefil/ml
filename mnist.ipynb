{
 "cells": [
  {
   "cell_type": "code",
   "execution_count": 1,
   "metadata": {},
   "outputs": [],
   "source": [
    "%reload_ext autoreload\n",
    "%autoreload 2"
   ]
  },
  {
   "cell_type": "code",
   "execution_count": 2,
   "metadata": {},
   "outputs": [],
   "source": [
    "import gzip,pickle\n",
    "import mytorch\n",
    "import numpy as np\n",
    "import torch\n",
    "import torch.nn as nn\n",
    "import torch.nn.functional as F\n",
    "import torch.optim as optim\n",
    "from torch.utils.data import DataLoader,TensorDataset\n",
    "import matplotlib.pyplot as plt\n",
    "from time import time"
   ]
  },
  {
   "cell_type": "code",
   "execution_count": 3,
   "metadata": {},
   "outputs": [],
   "source": [
    "tr,va,te=pickle.load(gzip.open('data/mnist.pkl.gz'),encoding='latin1')"
   ]
  },
  {
   "cell_type": "code",
   "execution_count": 4,
   "metadata": {},
   "outputs": [],
   "source": [
    "def normalize(x,mean,std): return (x-mean)/std\n",
    "tr_mean,tr_std=tr[0].mean(),tr[0].std()\n",
    "tr=(normalize(tr[0],tr_mean,tr_std),tr[1])\n",
    "va=(normalize(va[0],tr_mean,tr_std),va[1])\n",
    "te=(normalize(te[0],tr_mean,tr_std),te[1])"
   ]
  },
  {
   "cell_type": "code",
   "execution_count": 5,
   "metadata": {},
   "outputs": [
    {
     "data": {
      "text/plain": [
       "(784, 10)"
      ]
     },
     "execution_count": 5,
     "metadata": {},
     "output_type": "execute_result"
    }
   ],
   "source": [
    "n_in=te[0].shape[1]\n",
    "n_out=te[1].max()+1\n",
    "n_in,n_out"
   ]
  },
  {
   "cell_type": "code",
   "execution_count": 5,
   "metadata": {},
   "outputs": [],
   "source": [
    "def vectorize_y(y):\n",
    "    def vectorize(i):\n",
    "        v=np.zeros(10)\n",
    "        v[i]=1.\n",
    "        return v\n",
    "    return np.array([vectorize(i) for i in y])"
   ]
  },
  {
   "cell_type": "code",
   "execution_count": 6,
   "metadata": {},
   "outputs": [],
   "source": [
    "def nll_loss(p,targ): return -p[mytorch.arange(len(p)),targ].sum()/np.float32(len(p))\n",
    "# def nll_loss(p,targ): return -p[mytorch.arange(len(p)),targ].log().sum()/len(p)\n",
    "def cross_entropy(p,targ): return -(targ*p.log()+(1.-targ)*(1.-p).log()).sum()/len(p)\n",
    "def accuracy(p,targ): return (p.argmax(axis=1)==targ).mean()"
   ]
  },
  {
   "cell_type": "code",
   "execution_count": 320,
   "metadata": {},
   "outputs": [
    {
     "name": "stdout",
     "output_type": "stream",
     "text": [
      "tensor(0.33746768) tensor(0.9026)\n",
      "tensor(0.27810104) tensor(0.9182)\n",
      "tensor(0.2660433) tensor(0.9229)\n",
      "35.44679498672485 s\n"
     ]
    }
   ],
   "source": [
    "# %%prun\n",
    "# X,y=mytorch.tensor(tr[0]),mytorch.tensor(vectorize_y(tr[1]))\n",
    "X,y=mytorch.tensor(tr[0]),mytorch.tensor(tr[1])\n",
    "n_hid=30\n",
    "N=len(X)\n",
    "# N=10\n",
    "n_ep=3\n",
    "lr=.5\n",
    "batch_size=10\n",
    "\n",
    "np.random.seed(1)\n",
    "mytorch.manual_seed(1)\n",
    "m=mytorch.Seq(\n",
    "    mytorch.Linear(n_in,n_hid)\n",
    "    ,mytorch.Sigmoid()\n",
    "    ,mytorch.Linear(n_hid,n_out)\n",
    "#     ,mytorch.Sigmoid()\n",
    "    ,mytorch.LogSoftmax()\n",
    "#     ,mytorch.Softmax()\n",
    ")\n",
    "# print(m.modules[0].w,m.modules[2].w)\n",
    "losses,accs=[],[]\n",
    "t0=time()\n",
    "for ep in range(n_ep):\n",
    "    idxs=np.random.permutation(N)\n",
    "    for i in range(0,N,batch_size):\n",
    "        ibatch=idxs[i:i+batch_size]\n",
    "#         print(ibatch)\n",
    "        xb,yb=X[ibatch],y[ibatch]\n",
    "#         loss=cross_entropy(m(xb),yb)\n",
    "        loss=nll_loss(m(xb),yb)\n",
    "#         print(loss)\n",
    "        loss.backward()\n",
    "        with mytorch.no_grad():\n",
    "            for p in m.params():\n",
    "#                 print(p.grad.reshape(-1)[:3])\n",
    "                p-=lr*p.grad\n",
    "                p.grad.zero_()\n",
    "                \n",
    "    with mytorch.no_grad():\n",
    "        probs=m(mytorch.tensor(te[0]))\n",
    "#         losses.append(cross_entropy(probs,vectorize_y(te[1])))\n",
    "        vy=mytorch.tensor(te[1])\n",
    "        losses.append(nll_loss(probs,vy))\n",
    "        accs.append(accuracy(probs,vy))\n",
    "        print(losses[-1],accs[-1])\n",
    "print(time()-t0,'s')\n",
    "losses=mytorch.tensor(losses)\n",
    "accs=mytorch.tensor(accs)\n",
    "# plt.plot(losses)\n",
    "# plt.show()\n",
    "# plt.plot(accs)"
   ]
  },
  {
   "cell_type": "code",
   "execution_count": 81,
   "metadata": {},
   "outputs": [
    {
     "data": {
      "text/plain": [
       "dtype('float64')"
      ]
     },
     "execution_count": 81,
     "metadata": {},
     "output_type": "execute_result"
    }
   ],
   "source": [
    "loss.v.dtype"
   ]
  },
  {
   "cell_type": "code",
   "execution_count": 146,
   "metadata": {},
   "outputs": [],
   "source": [
    "def sigmoid(x): return 1./(1.+np.exp(-x))\n",
    "def sigmoid_prime(x): return x*(1.-x)\n",
    "def softmax(x):\n",
    "    e=np.exp(x)\n",
    "    return e/e.sum(axis=1,keepdims=True)"
   ]
  },
  {
   "cell_type": "code",
   "execution_count": 116,
   "metadata": {},
   "outputs": [
    {
     "name": "stdout",
     "output_type": "stream",
     "text": [
      "0.632670942572302 0.9003\n",
      "0.5478507429896013 0.9132\n",
      "0.478934529252819 0.9288\n",
      "0.44079300268784827 0.9364\n",
      "0.5421477966668914 0.9199\n",
      "0.41838746069623023 0.9388\n",
      "0.4530470989045172 0.9378\n",
      "0.4752314444853332 0.9329\n",
      "0.4197020298671103 0.9422\n",
      "0.40289795544745466 0.9416\n",
      "0.4362184010630118 0.9402\n",
      "0.39924739439404383 0.9462\n",
      "0.4167554304909834 0.9402\n",
      "0.3766483564398313 0.9468\n",
      "0.3701037060569102 0.9477\n",
      "0.3932910751707165 0.9461\n",
      "0.37327370489263767 0.9496\n",
      "0.3868993280898096 0.9453\n",
      "0.4091943511821956 0.9436\n",
      "0.34642862320397433 0.9515\n",
      "0.38650600151485465 0.9435\n",
      "0.3750960414102017 0.9474\n",
      "0.35714398218672333 0.9517\n",
      "0.3765891977557906 0.9503\n",
      "0.3609661577212279 0.9512\n",
      "0.36368937064158297 0.9507\n",
      "0.38040249256142344 0.9464\n",
      "0.37698987613327417 0.9498\n",
      "0.3874604429172612 0.9471\n",
      "0.3589867607447862 0.95\n",
      "58.40710520744324 s\n"
     ]
    },
    {
     "data": {
      "image/png": "[encoded data removed]",
      "text/plain": [
       "<Figure size 432x288 with 1 Axes>"
      ]
     },
     "metadata": {
      "needs_background": "light"
     },
     "output_type": "display_data"
    },
    {
     "data": {
      "text/plain": [
       "[<matplotlib.lines.Line2D at 0x7eff9617b210>]"
      ]
     },
     "execution_count": 116,
     "metadata": {},
     "output_type": "execute_result"
    },
    {
     "data": {
      "image/png": "[encoded data removed]",
      "text/plain": [
       "<Figure size 432x288 with 1 Axes>"
      ]
     },
     "metadata": {
      "needs_background": "light"
     },
     "output_type": "display_data"
    }
   ],
   "source": [
    "lr=3.\n",
    "\n",
    "X=tr[0]\n",
    "# y=tr[1]\n",
    "y=vectorize_y(tr[1])\n",
    "N=len(X)\n",
    "batch_size=10\n",
    "n_ep=30\n",
    "\n",
    "losses=[]\n",
    "accs=[]\n",
    "np.random.seed(17)\n",
    "w1,b1=np.random.randn(n_in,n_hid),np.random.randn(n_hid)\n",
    "w2,b2=np.random.randn(n_hid,n_out),np.random.randn(n_out)\n",
    "t0=time()\n",
    "for ep in range(n_ep):\n",
    "    idxs=np.random.permutation(N)\n",
    "    for i in range(0,N,batch_size):\n",
    "        ibatch=idxs[i:i+batch_size]\n",
    "        xb,yb=X[ibatch],y[ibatch]\n",
    "        a1=sigmoid(xb@w1+b1)\n",
    "#         a2=softmax(a1@w2+b2)\n",
    "        a2=sigmoid(a1@w2+b2)\n",
    "\n",
    "#         # log-likelihood\n",
    "#         d2=np.zeros_like(a2)\n",
    "#         d2[np.arange(len(d2)),yb]=a2[np.arange(len(a2)),yb]-1.\n",
    "        # cross-entropy\n",
    "        d2=a2-yb\n",
    "        d1=d2@w2.T*sigmoid_prime(a1)\n",
    "        \n",
    "        gw2=a1.T@d2\n",
    "        gb2=d2.sum(axis=0)\n",
    "        gw1=xb.T@d1\n",
    "        gb1=d1.sum(axis=0)\n",
    "        \n",
    "        w2-=lr/batch_size*gw2\n",
    "        b2-=lr/batch_size*gb2\n",
    "        w1-=lr/batch_size*gw1\n",
    "        b1-=lr/batch_size*gb1\n",
    "    \n",
    "#     probs=softmax(sigmoid(te[0]@w1+b1)@w2+b2)\n",
    "#     loss=-np.log(probs[np.arange(len(probs)),te[1]]).sum()/len(probs)\n",
    "    probs=sigmoid(sigmoid(te[0]@w1+b1)@w2+b2)\n",
    "    vy=vectorize_y(te[1])\n",
    "    loss=-(vy*np.log(probs)+(1.-vy)*np.log(1.-probs)).sum()/len(probs)\n",
    "    acc=np.mean(np.argmax(probs,axis=1)==te[1])\n",
    "    print(loss,acc)\n",
    "    losses.append(loss)\n",
    "    accs.append(acc)\n",
    "print(time()-t0,'s')\n",
    "plt.plot(losses)\n",
    "plt.show()\n",
    "plt.plot(accs)"
   ]
  },
  {
   "cell_type": "code",
   "execution_count": 267,
   "metadata": {},
   "outputs": [
    {
     "name": "stdout",
     "output_type": "stream",
     "text": [
      "tensor(0.3577) tensor(0.8932)\n",
      "tensor(0.3179) tensor(0.9081)\n",
      "tensor(0.2748) tensor(0.9231)\n",
      "23.523262977600098 s\n"
     ]
    }
   ],
   "source": [
    "X,y=torch.tensor(tr[0]),torch.tensor(tr[1])\n",
    "N=len(X)\n",
    "# N=5\n",
    "# ds=TensorDataset(X,y)\n",
    "\n",
    "class Linear(nn.Module):\n",
    "    def __init__(self,n_in,n_out):\n",
    "        super().__init__()\n",
    "        self.w=nn.Parameter(torch.from_numpy(np.asarray(np.random.randn(n_in,n_out),dtype=np.float32)))\n",
    "        self.b=nn.Parameter(torch.zeros(n_out))\n",
    "    def forward(self,x): return x@self.w+self.b\n",
    "class Sigmoid(nn.Module):\n",
    "    def forward(self,x): return 1./(1.+(-x).exp())\n",
    "class LogSoftmax(nn.Module):\n",
    "    def forward(self,x): return x-x.exp().sum(dim=1,keepdim=True).log()\n",
    "# class Linear:\n",
    "#     def __init__(self,n_in,n_out):\n",
    "#         self.w=torch.tensor(np.random.randn(n_in,n_out),dtype=torch.float,requires_grad=True)\n",
    "#         self.b=torch.zeros(n_out,requires_grad=True)\n",
    "#     def __call__(self,x): return x@self.w+self.b\n",
    "# class Sigmoid:\n",
    "#     def __call__(self,x): return 1./(1.+(-x).exp())\n",
    "# class LogSoftmax:\n",
    "#     def __call__(self,x): return x-x.exp().sum(dim=1,keepdim=True).log()\n",
    "\n",
    "np.random.seed(1)\n",
    "torch.manual_seed(1)\n",
    "n_hid=30\n",
    "l1=Linear(n_in,n_hid)\n",
    "sig1=Sigmoid()\n",
    "l2=Linear(n_hid,n_out)\n",
    "smax2=LogSoftmax()\n",
    "# print(l1.w,'\\n',l2.w)\n",
    "m=nn.Sequential(\n",
    "#     nn.Linear(n_in,n_hid)\n",
    "    l1\n",
    "    ,nn.Sigmoid()\n",
    "#     ,sig1\n",
    "#     ,nn.Linear(n_hid,n_out)\n",
    "    ,l2\n",
    "#     ,smax2\n",
    "    ,nn.LogSoftmax(dim=1)\n",
    ")\n",
    "\n",
    "batch_size=10\n",
    "n_ep=3\n",
    "lr=.45\n",
    "\n",
    "losses=[]\n",
    "accs=[]\n",
    "opt=optim.SGD(m.parameters(),lr=lr)\n",
    "t0=time()\n",
    "def loss_fn(p,targ): return -p[torch.arange(len(p)),targ].sum()/len(p)\n",
    "def predict(x): return m(x)\n",
    "# def predict(x): return smax2(l2(sig1(l1(x))))\n",
    "np.random.seed(1)\n",
    "for ep in range(n_ep):\n",
    "    idxs=np.random.permutation(N)\n",
    "    for i in range(0,N,batch_size):\n",
    "        ibatch=idxs[i:i+batch_size]\n",
    "#         print(ibatch)\n",
    "        xb,yb=X[ibatch],y[ibatch]\n",
    "#     dl=DataLoader(ds,batch_size=batch_size,shuffle=True)\n",
    "#     for xb,yb in dl:\n",
    "        probs=predict(xb)\n",
    "#         loss=F.nll_loss(probs,yb)\n",
    "        loss=loss_fn(probs,yb)\n",
    "#         print(probs)\n",
    "#         loss=loss_fn(probs,yb)\n",
    "#         print(loss)\n",
    "        loss.backward()\n",
    "#         loss_fn(probs,yb).backward()\n",
    "#         opt.step()\n",
    "#         opt.zero_grad()\n",
    "        with torch.no_grad():\n",
    "            for p in m.parameters():\n",
    "#             for p in [l1.w,l1.b,l2.w,l2.b]:\n",
    "#                 print(p.grad.reshape(-1)[:3])\n",
    "#                 print('before',p,'grad',p.grad)\n",
    "                p-=lr*p.grad\n",
    "#                 print('after',p)\n",
    "                p.grad.zero_()\n",
    "    \n",
    "    with torch.no_grad():\n",
    "        probs=predict(torch.tensor(te[0]))\n",
    "        vy=torch.tensor(te[1])\n",
    "#         loss=F.nll_loss(probs,vy)\n",
    "        loss=loss_fn(probs,vy)\n",
    "        losses.append(loss)\n",
    "        acc=(probs.argmax(axis=1)==vy).float().mean()\n",
    "        accs.append(acc)\n",
    "        print(losses[-1],accs[-1])\n",
    "print(time()-t0,'s')\n",
    "# plt.plot(losses)\n",
    "# plt.show()\n",
    "# plt.plot(accs)"
   ]
  },
  {
   "cell_type": "code",
   "execution_count": 167,
   "metadata": {},
   "outputs": [
    {
     "name": "stdout",
     "output_type": "stream",
     "text": [
      "tensor(0.33745047, dtype=float32) tensor(0.9026)\n",
      "tensor(0.27811417, dtype=float32) tensor(0.918)\n",
      "tensor(0.26602763, dtype=float32) tensor(0.923)\n",
      "tensor(0.24402644, dtype=float32) tensor(0.9281)\n",
      "tensor(0.22023076, dtype=float32) tensor(0.9377)\n",
      "tensor(0.20807666, dtype=float32) tensor(0.9417)\n",
      "tensor(0.19453724, dtype=float32) tensor(0.9412)\n",
      "tensor(0.20017874, dtype=float32) tensor(0.9433)\n",
      "tensor(0.21266308, dtype=float32) tensor(0.9423)\n",
      "tensor(0.19948587, dtype=float32) tensor(0.9462)\n",
      "58.47255229949951 s\n"
     ]
    }
   ],
   "source": [
    "# %%prun\n",
    "# X,y=mytorch.tensor(tr[0]),mytorch.tensor(vectorize_y(tr[1]))\n",
    "X,y=mytorch.tensor(tr[0]),mytorch.tensor(tr[1])\n",
    "# print(X.dtype,y.dtype)\n",
    "n_hid=30\n",
    "N=len(X)\n",
    "# N=10\n",
    "n_ep=10\n",
    "lr=.5\n",
    "batch_size=10\n",
    "\n",
    "np.random.seed(1)\n",
    "mytorch.manual_seed(1)\n",
    "m=mytorch.Seq(\n",
    "    mytorch.Linear(n_in,n_hid)\n",
    "    ,mytorch.Sigmoid()\n",
    "    ,mytorch.Linear(n_hid,n_out)\n",
    "#     ,mytorch.Sigmoid()\n",
    "    ,mytorch.LogSoftmax()\n",
    "#     ,mytorch.Softmax()\n",
    ").to(mytorch.float32)\n",
    "# print(m.modules[0].w.dtype,m.modules[0].b.dtype,m.modules[2].w.dtype,m.modules[2].b.dtype)\n",
    "losses,accs=[],[]\n",
    "t0=time()\n",
    "for ep in range(n_ep):\n",
    "    idxs=np.random.permutation(N)\n",
    "    for i in range(0,N,batch_size):\n",
    "        ibatch=idxs[i:i+batch_size]\n",
    "#         print(ibatch)\n",
    "        xb,yb=X[ibatch],y[ibatch]\n",
    "#         loss=cross_entropy(m(xb),yb)\n",
    "#         print(xb.dtype,m(xb).dtype)\n",
    "        loss=nll_loss(m(xb),yb)\n",
    "#         print('loss',loss.dtype)\n",
    "#         print(loss)\n",
    "        loss.backward()\n",
    "        with mytorch.no_grad():\n",
    "            for p in m.params():\n",
    "#                 print(p.mean(),p.grad.mean())\n",
    "#                 print('grad',p.grad.dtype)\n",
    "                p-=lr*p.grad\n",
    "                p.grad.zero_()\n",
    "                \n",
    "    with mytorch.no_grad():\n",
    "        probs=m(mytorch.tensor(te[0]))\n",
    "#         losses.append(cross_entropy(probs,vectorize_y(te[1])))\n",
    "        vy=mytorch.tensor(te[1])\n",
    "        losses.append(nll_loss(probs,vy))\n",
    "        accs.append(accuracy(probs,vy))\n",
    "        print(losses[-1],accs[-1])\n",
    "print(time()-t0,'s')\n",
    "losses=mytorch.tensor(losses)\n",
    "accs=mytorch.tensor(accs)\n",
    "# plt.plot(losses)\n",
    "# plt.show()\n",
    "# plt.plot(accs)"
   ]
  },
  {
   "cell_type": "code",
   "execution_count": 132,
   "metadata": {},
   "outputs": [
    {
     "name": "stdout",
     "output_type": "stream",
     "text": [
      " "
     ]
    }
   ],
   "source": [
    "%%prun\n",
    "s=mytorch.tensor(7.,do_grad=False)\n",
    "u=mytorch.tensor(8.,do_grad=False)\n",
    "for _ in range(300000):\n",
    "    t=s*u\n",
    "#     t.backward()\n",
    "#     s.grad.zero_()\n",
    "s.grad,u.grad"
   ]
  },
  {
   "cell_type": "code",
   "execution_count": 250,
   "metadata": {},
   "outputs": [],
   "source": [
    "class Flatten(mytorch.Module):\n",
    "    def forward(self,x): return x.reshape((len(x),-1))\n",
    "\n",
    "# def getm():\n",
    "#     return mytorch.Seq(\n",
    "#         mytorch.Conv2d(1,8,5,padding=2,stride=2),mytorch.ReLU() # 1x28x28 -> 8x14x14\n",
    "#         ,mytorch.Conv2d(8,16,3,padding=1,stride=2),mytorch.ReLU() # -> 16x7x7\n",
    "#         ,mytorch.Conv2d(16,32,3,padding=1,stride=2),mytorch.ReLU() # -> 32x4x4\n",
    "#         ,mytorch.Conv2d(32,32,3,padding=1,stride=2),mytorch.ReLU() # -> 32x2x2\n",
    "#         ,Flatten()\n",
    "#         ,mytorch.Linear(128,10)\n",
    "#     ).to(mytorch.float32)\n",
    "\n",
    "nh=50\n",
    "def getm():\n",
    "    return mytorch.Seq(\n",
    "        mytorch.Linear(n_in,nh),mytorch.ReLU()\n",
    "        ,mytorch.Linear(nh,10)\n",
    "    ).to(mytorch.float32)\n",
    "\n",
    "# def getm():\n",
    "#     return mytorch.Seq(\n",
    "#         mytorch.Conv2d(1,20,5),mytorch.ReLU() # 20x24x24\n",
    "#         ,mytorch.MaxPool2d(2,stride=2) # 20x12x12\n",
    "#         ,Flatten() # 20*12*12\n",
    "#         ,mytorch.Linear(20*12*12,100),mytorch.ReLU() # 100\n",
    "#         ,mytorch.Linear(100,10)\n",
    "#     ).to(mytorch.float32)"
   ]
  },
  {
   "cell_type": "code",
   "execution_count": 252,
   "metadata": {},
   "outputs": [],
   "source": [
    "batch_size=100\n",
    "lr=.1\n",
    "n_ep=5\n",
    "\n",
    "def getdl(x,y,shuffle=False,xshape=None,first_n=None):\n",
    "    x=x.reshape(xshape) if xshape else x\n",
    "    if first_n: x,y=x[:first_n],y[:first_n]\n",
    "    x,y=map(mytorch.tensor,[x,y])\n",
    "    ds=mytorch.TensorDataset(x,y)\n",
    "    return mytorch.DataLoader(ds,bs=batch_size,shuffle=shuffle)\n",
    "\n",
    "# xshape=(-1,1,28,28)\n",
    "xshape=None\n",
    "trdl=getdl(*tr,shuffle=True)\n",
    "vadl=getdl(*va)\n",
    "# plt.imshow(next(iter(trdl))[0][3,0],cmap='gray')\n",
    "m=getm()\n",
    "opt=mytorch.SGD(m.params(),lr)"
   ]
  },
  {
   "cell_type": "code",
   "execution_count": 253,
   "metadata": {},
   "outputs": [
    {
     "data": {
      "text/plain": [
       "[(tensor(0.00051804, dtype=float32), tensor(0.00102046, dtype=float32)),\n",
       " (tensor(0.01242997, dtype=float32), tensor(0.00126717, dtype=float32)),\n",
       " (tensor(-7.4505807e-10, dtype=float32), tensor(0.00495924, dtype=float32)),\n",
       " (tensor(4.0978194e-09, dtype=float32), tensor(0.00434392, dtype=float32))]"
      ]
     },
     "execution_count": 253,
     "metadata": {},
     "output_type": "execute_result"
    }
   ],
   "source": [
    "opt.zero_grad()\n",
    "xb,yb=next(iter(trdl))\n",
    "mytorch.cross_entropy(m(xb),yb).backward()\n",
    "[(p.grad.mean(),p.grad.var()) for p in m.params()]"
   ]
  },
  {
   "cell_type": "code",
   "execution_count": 254,
   "metadata": {},
   "outputs": [
    {
     "name": "stdout",
     "output_type": "stream",
     "text": [
      "train loss 0.31385308139771223\n",
      "tensor(0.9476) tensor(0.18492989)\n",
      "train loss 0.16386096170544626\n",
      "tensor(0.9602) tensor(0.13612051)\n",
      "train loss 0.12639652191475034\n",
      "tensor(0.9636) tensor(0.12403162)\n",
      "train loss 0.10549794644489885\n",
      "tensor(0.9677) tensor(0.10987234)\n",
      "train loss 0.09007261226698757\n",
      "tensor(0.9707) tensor(0.10001938)\n",
      "6.202772617340088 s\n"
     ]
    }
   ],
   "source": [
    "t0=time()\n",
    "for ep in range(n_ep):\n",
    "    totloss=0.\n",
    "    for xb,yb in trdl:\n",
    "#         print(xb.sum(),yb.sum())\n",
    "        loss=mytorch.cross_entropy(m(xb),yb)\n",
    "        totloss+=loss.v*batch_size\n",
    "#         print(loss)\n",
    "        loss.backward()\n",
    "        opt.step()\n",
    "    print('train loss',totloss/len(trdl))\n",
    "\n",
    "    with mytorch.no_grad():\n",
    "        acc=0.\n",
    "        loss=0.\n",
    "        for xb,yb in vadl:\n",
    "            yhat=mytorch.log_softmax(m(xb))\n",
    "            acc+=(yhat.argmax(axis=1)==yb).sum()\n",
    "            loss+=mytorch.nll_loss(yhat,yb)*batch_size\n",
    "        print(acc/len(vadl),loss/len(vadl))\n",
    "print(time()-t0,'s')"
   ]
  },
  {
   "cell_type": "code",
   "execution_count": null,
   "metadata": {},
   "outputs": [],
   "source": []
  }
 ],
 "metadata": {
  "kernelspec": {
   "display_name": "Python 3",
   "language": "python",
   "name": "python3"
  },
  "language_info": {
   "codemirror_mode": {
    "name": "ipython",
    "version": 3
   },
   "file_extension": ".py",
   "mimetype": "text/x-python",
   "name": "python",
   "nbconvert_exporter": "python",
   "pygments_lexer": "ipython3",
   "version": "3.7.6"
  }
 },
 "nbformat": 4,
 "nbformat_minor": 4
}
