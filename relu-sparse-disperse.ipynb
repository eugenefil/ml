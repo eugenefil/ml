{
 "cells": [
  {
   "cell_type": "markdown",
   "metadata": {},
   "source": [
    "## ReLU sparseness and dispersion"
   ]
  },
  {
   "cell_type": "markdown",
   "metadata": {},
   "source": [
    "Loosely done after the \"Rectifier Nonlinearities Improve Neural Network Acoustic Models\" paper https://ai.stanford.edu/~amaas/papers/relu_hybrid_icml2013_final.pdf, which introduces leaky relu. Here we use MNIST. "
   ]
  },
  {
   "cell_type": "code",
   "execution_count": 112,
   "metadata": {},
   "outputs": [],
   "source": [
    "import torch\n",
    "import torch.nn as nn\n",
    "import torchvision.datasets as datasets\n",
    "import torchvision.transforms as T\n",
    "import torch.utils.data as data\n",
    "import torch.optim as optim\n",
    "import torch.nn.functional as F\n",
    "import matplotlib.pyplot as plt"
   ]
  },
  {
   "cell_type": "code",
   "execution_count": 57,
   "metadata": {},
   "outputs": [],
   "source": [
    "tr=datasets.MNIST('data',download=True)\n",
    "te=datasets.MNIST('data',download=True,train=False)"
   ]
  },
  {
   "cell_type": "code",
   "execution_count": 145,
   "metadata": {},
   "outputs": [],
   "source": [
    "dev=torch.device('cpu')\n",
    "if torch.cuda.is_available(): dev=torch.device('cuda')"
   ]
  },
  {
   "cell_type": "code",
   "execution_count": 147,
   "metadata": {},
   "outputs": [],
   "source": [
    "def getxy(ds):\n",
    "    ims,ys=zip(*ds)\n",
    "    xs=torch.stack(list(map(T.ToTensor(),ims)))\n",
    "    return xs.view((len(xs),-1)).to(dev),torch.tensor(ys).to(dev)"
   ]
  },
  {
   "cell_type": "code",
   "execution_count": 148,
   "metadata": {},
   "outputs": [
    {
     "data": {
      "text/plain": [
       "(tensor(0.1307, device='cuda:0'), tensor(0.3081, device='cuda:0'))"
      ]
     },
     "execution_count": 148,
     "metadata": {},
     "output_type": "execute_result"
    }
   ],
   "source": [
    "tr_x,tr_y=getxy(tr)\n",
    "te_x,te_y=getxy(te)\n",
    "mean,std=tr_x.mean(),tr_x.std()\n",
    "mean,std"
   ]
  },
  {
   "cell_type": "code",
   "execution_count": 149,
   "metadata": {},
   "outputs": [],
   "source": [
    "def norm(x,mean,std): return (x-mean)/std"
   ]
  },
  {
   "cell_type": "code",
   "execution_count": 150,
   "metadata": {},
   "outputs": [
    {
     "data": {
      "text/plain": [
       "(tensor(1.4003e-08, device='cuda:0'),\n",
       " tensor(1.0000, device='cuda:0'),\n",
       " tensor(0.0060, device='cuda:0'),\n",
       " tensor(1.0077, device='cuda:0'))"
      ]
     },
     "execution_count": 150,
     "metadata": {},
     "output_type": "execute_result"
    }
   ],
   "source": [
    "tr_x=norm(tr_x,mean,std)\n",
    "te_x=norm(te_x,mean,std)\n",
    "tr_x.mean(),tr_x.std(),te_x.mean(),te_x.std()"
   ]
  },
  {
   "cell_type": "code",
   "execution_count": 252,
   "metadata": {},
   "outputs": [],
   "source": [
    "def getlinmodel(nhid,act=nn.ReLU):\n",
    "    m=nn.Sequential(\n",
    "        nn.Linear(784,nhid),act()\n",
    "        ,nn.Linear(nhid,nhid),act()\n",
    "        ,nn.Linear(nhid,10)\n",
    "    )\n",
    "    with torch.no_grad():\n",
    "        for l in m:\n",
    "            if isinstance(l,nn.Linear):\n",
    "                for p in l.parameters():\n",
    "                    if p.ndim==1: p.zero_() # zero bias\n",
    "                    # xavier weights like in paper\n",
    "                    else: nn.init.xavier_uniform_(p)\n",
    "    return m.to(dev)"
   ]
  },
  {
   "cell_type": "code",
   "execution_count": 253,
   "metadata": {},
   "outputs": [],
   "source": [
    "nhid=500\n",
    "bs=500\n",
    "epochs=5\n",
    "lr=.01\n",
    "\n",
    "def train(act=nn.ReLU):\n",
    "    tr_dl=data.DataLoader(data.TensorDataset(tr_x,tr_y),batch_size=bs,shuffle=True)\n",
    "    te_dl=data.DataLoader(data.TensorDataset(te_x,te_y),batch_size=bs)\n",
    "    m=getlinmodel(nhid,act=act)\n",
    "    opt=optim.Adam(m.parameters(),lr=lr)\n",
    "    for ep in range(epochs):\n",
    "        for xb,yb in tr_dl:\n",
    "            opt.zero_grad()\n",
    "            F.cross_entropy(m(xb),yb).backward()\n",
    "            opt.step()\n",
    "\n",
    "        with torch.no_grad():\n",
    "            acc=0.\n",
    "            for xb,yb in te_dl:\n",
    "                acc+=(torch.argmax(m(xb),1)==yb).sum().item()\n",
    "            acc/=len(te_x)\n",
    "            print(ep+1,acc)\n",
    "    return m"
   ]
  },
  {
   "cell_type": "code",
   "execution_count": 263,
   "metadata": {},
   "outputs": [
    {
     "name": "stdout",
     "output_type": "stream",
     "text": [
      "training Sigmoid\n",
      "1 0.9531\n",
      "2 0.9585\n",
      "3 0.9664\n",
      "4 0.9656\n",
      "5 0.9679\n",
      "activation prob: mean 0.8155727386474609 std 0.14060817658901215 \n",
      "\n",
      "training Tanh\n",
      "1 0.9463\n",
      "2 0.9543\n",
      "3 0.9509\n",
      "4 0.9615\n",
      "5 0.9624\n",
      "activation prob: mean 0.1049720048904419 std 0.1096164882183075 \n",
      "\n",
      "training ReLU\n",
      "1 0.9529\n",
      "2 0.9619\n",
      "3 0.9642\n",
      "4 0.9686\n",
      "5 0.9695\n",
      "activation prob: mean 0.11574779450893402 std 0.1238703727722168 \n",
      "\n",
      "training LeakyReLU\n",
      "1 0.9589\n",
      "2 0.9601\n",
      "3 0.9629\n",
      "4 0.9668\n",
      "5 0.966\n",
      "activation prob: mean 0.10802941024303436 std 0.11503184586763382 \n",
      "\n"
     ]
    },
    {
     "data": {
      "image/png": "[encoded data removed]",
      "text/plain": [
       "<Figure size 432x288 with 1 Axes>"
      ]
     },
     "metadata": {
      "needs_background": "light"
     },
     "output_type": "display_data"
    }
   ],
   "source": [
    "def relu_active(x): return x>0\n",
    "def tanh_active(x): return (-.95<x)&(x<.95)\n",
    "def sigm_active(x): return (.05<x)&(x<.95)\n",
    "\n",
    "for act,active in zip((nn.Sigmoid,nn.Tanh,nn.ReLU,nn.LeakyReLU),\n",
    "                      (sigm_active,tanh_active,relu_active,relu_active)):\n",
    "    name=act.__name__\n",
    "    print('training',name)\n",
    "    m=train(act)\n",
    "    a=nn.Sequential(*list(m)[:-1])(te_x).cpu() # take vals from last hidden layer\n",
    "    a=active(a).float() # get activeness: 1 - active unit, 0 - saturated\n",
    "    probs=a.mean(dim=0) # get activation probs for each unit\n",
    "    print('activation prob: mean',probs.mean().item(),'std',probs.std().item(),'\\n')\n",
    "    plt.plot(probs.sort()[0],label=name)\n",
    "    plt.legend()"
   ]
  },
  {
   "cell_type": "markdown",
   "metadata": {},
   "source": [
    "* Like in paper, both ReLUs performed better than tanh and similar to each other.\n",
    "* But unlike paper plotted tanh probs are pretty the same as relu.\n",
    "* Surprisingly(?) oftentimes sigmoid did a bit better than everyone else.\n",
    "* As in paper, ReLUs have low activation probs, i.e. sparse.\n",
    "* But unlike paper they are not very disperse, i.e. stddev is higher.\n",
    "* The shape of relu and tanh curves differs from paper.\n",
    "* Tried different init schemes, it didn't change much.\n",
    "* In paper there were 4 hidden layers 2048 units each. Replicating this here resulted in lots of saturated neurons, i.e. all curves almost 0 almost everywhere."
   ]
  },
  {
   "cell_type": "code",
   "execution_count": null,
   "metadata": {},
   "outputs": [],
   "source": []
  }
 ],
 "metadata": {
  "kernelspec": {
   "display_name": "Python 3",
   "language": "python",
   "name": "python3"
  },
  "language_info": {
   "codemirror_mode": {
    "name": "ipython",
    "version": 3
   },
   "file_extension": ".py",
   "mimetype": "text/x-python",
   "name": "python",
   "nbconvert_exporter": "python",
   "pygments_lexer": "ipython3",
   "version": "3.7.6"
  }
 },
 "nbformat": 4,
 "nbformat_minor": 4
}
